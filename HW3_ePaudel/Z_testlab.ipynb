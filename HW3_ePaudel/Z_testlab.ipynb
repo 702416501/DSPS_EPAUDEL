{
 "cells": [
  {
   "cell_type": "code",
   "execution_count": 1,
   "metadata": {
    "colab": {
     "base_uri": "https://localhost:8080/",
     "height": 34
    },
    "colab_type": "code",
    "id": "ly4r_qnEPqFt",
    "outputId": "22706de6-edf0-446b-8016-d3409578ac70"
   },
   "outputs": [
    {
     "name": "stdout",
     "output_type": "stream",
     "text": [
      "Populating the interactive namespace from numpy and matplotlib\n"
     ]
    }
   ],
   "source": [
    "import pandas as pd\n",
    "import numpy as np\n",
    "%pylab inline"
   ]
  },
  {
   "cell_type": "markdown",
   "metadata": {
    "colab_type": "text",
    "id": "GoROv1ZcP65I"
   },
   "source": [
    "I extracted precipitations records for Willmington from 2000/01/01 through today. \n",
    "The goal is to extract from these data the daily precipitation starting on 2018/01/01 and assess if these data are different from a population with mean $\\mu = 0.14$ standard deviation $\\sigma= 0.38$. \n",
    "\n",
    "Set a p-value at $2\\sigma$:  $p=0.05$"
   ]
  },
  {
   "cell_type": "code",
   "execution_count": 3,
   "metadata": {
    "colab": {
     "base_uri": "https://localhost:8080/",
     "height": 1000
    },
    "colab_type": "code",
    "id": "ptBGYViVPt7E",
    "outputId": "0e6344d0-8193-49d7-af42-10ac80421ea9"
   },
   "outputs": [
    {
     "data": {
      "text/html": [
       "<div>\n",
       "<style scoped>\n",
       "    .dataframe tbody tr th:only-of-type {\n",
       "        vertical-align: middle;\n",
       "    }\n",
       "\n",
       "    .dataframe tbody tr th {\n",
       "        vertical-align: top;\n",
       "    }\n",
       "\n",
       "    .dataframe thead th {\n",
       "        text-align: right;\n",
       "    }\n",
       "</style>\n",
       "<table border=\"1\" class=\"dataframe\">\n",
       "  <thead>\n",
       "    <tr style=\"text-align: right;\">\n",
       "      <th></th>\n",
       "      <th>STATION</th>\n",
       "      <th>NAME</th>\n",
       "      <th>DATE</th>\n",
       "      <th>PRCP</th>\n",
       "      <th>SNOW</th>\n",
       "      <th>SNWD</th>\n",
       "      <th>WESD</th>\n",
       "      <th>WESF</th>\n",
       "    </tr>\n",
       "  </thead>\n",
       "  <tbody>\n",
       "    <tr>\n",
       "      <td>0</td>\n",
       "      <td>US1DENC0010</td>\n",
       "      <td>NEWPORT 2.4 WNW, DE US</td>\n",
       "      <td>2010-01-01</td>\n",
       "      <td>0.28</td>\n",
       "      <td>NaN</td>\n",
       "      <td>0.0</td>\n",
       "      <td>NaN</td>\n",
       "      <td>NaN</td>\n",
       "    </tr>\n",
       "    <tr>\n",
       "      <td>1</td>\n",
       "      <td>US1DENC0010</td>\n",
       "      <td>NEWPORT 2.4 WNW, DE US</td>\n",
       "      <td>2010-01-02</td>\n",
       "      <td>0.00</td>\n",
       "      <td>0.0</td>\n",
       "      <td>NaN</td>\n",
       "      <td>NaN</td>\n",
       "      <td>NaN</td>\n",
       "    </tr>\n",
       "    <tr>\n",
       "      <td>2</td>\n",
       "      <td>US1DENC0010</td>\n",
       "      <td>NEWPORT 2.4 WNW, DE US</td>\n",
       "      <td>2010-01-03</td>\n",
       "      <td>0.00</td>\n",
       "      <td>0.0</td>\n",
       "      <td>NaN</td>\n",
       "      <td>NaN</td>\n",
       "      <td>NaN</td>\n",
       "    </tr>\n",
       "    <tr>\n",
       "      <td>3</td>\n",
       "      <td>US1DENC0010</td>\n",
       "      <td>NEWPORT 2.4 WNW, DE US</td>\n",
       "      <td>2010-01-04</td>\n",
       "      <td>0.00</td>\n",
       "      <td>0.0</td>\n",
       "      <td>NaN</td>\n",
       "      <td>NaN</td>\n",
       "      <td>NaN</td>\n",
       "    </tr>\n",
       "    <tr>\n",
       "      <td>4</td>\n",
       "      <td>US1DENC0010</td>\n",
       "      <td>NEWPORT 2.4 WNW, DE US</td>\n",
       "      <td>2010-01-05</td>\n",
       "      <td>0.00</td>\n",
       "      <td>NaN</td>\n",
       "      <td>NaN</td>\n",
       "      <td>NaN</td>\n",
       "      <td>NaN</td>\n",
       "    </tr>\n",
       "    <tr>\n",
       "      <td>...</td>\n",
       "      <td>...</td>\n",
       "      <td>...</td>\n",
       "      <td>...</td>\n",
       "      <td>...</td>\n",
       "      <td>...</td>\n",
       "      <td>...</td>\n",
       "      <td>...</td>\n",
       "      <td>...</td>\n",
       "    </tr>\n",
       "    <tr>\n",
       "      <td>3533</td>\n",
       "      <td>US1DENC0010</td>\n",
       "      <td>NEWPORT 2.4 WNW, DE US</td>\n",
       "      <td>2019-09-04</td>\n",
       "      <td>0.00</td>\n",
       "      <td>0.0</td>\n",
       "      <td>NaN</td>\n",
       "      <td>NaN</td>\n",
       "      <td>NaN</td>\n",
       "    </tr>\n",
       "    <tr>\n",
       "      <td>3534</td>\n",
       "      <td>US1DENC0010</td>\n",
       "      <td>NEWPORT 2.4 WNW, DE US</td>\n",
       "      <td>2019-09-05</td>\n",
       "      <td>0.00</td>\n",
       "      <td>0.0</td>\n",
       "      <td>NaN</td>\n",
       "      <td>NaN</td>\n",
       "      <td>NaN</td>\n",
       "    </tr>\n",
       "    <tr>\n",
       "      <td>3535</td>\n",
       "      <td>US1DENC0010</td>\n",
       "      <td>NEWPORT 2.4 WNW, DE US</td>\n",
       "      <td>2019-09-06</td>\n",
       "      <td>0.00</td>\n",
       "      <td>0.0</td>\n",
       "      <td>NaN</td>\n",
       "      <td>NaN</td>\n",
       "      <td>NaN</td>\n",
       "    </tr>\n",
       "    <tr>\n",
       "      <td>3536</td>\n",
       "      <td>US1DENC0010</td>\n",
       "      <td>NEWPORT 2.4 WNW, DE US</td>\n",
       "      <td>2019-09-07</td>\n",
       "      <td>0.02</td>\n",
       "      <td>NaN</td>\n",
       "      <td>NaN</td>\n",
       "      <td>NaN</td>\n",
       "      <td>NaN</td>\n",
       "    </tr>\n",
       "    <tr>\n",
       "      <td>3537</td>\n",
       "      <td>US1DENC0010</td>\n",
       "      <td>NEWPORT 2.4 WNW, DE US</td>\n",
       "      <td>2019-09-08</td>\n",
       "      <td>0.00</td>\n",
       "      <td>0.0</td>\n",
       "      <td>NaN</td>\n",
       "      <td>NaN</td>\n",
       "      <td>NaN</td>\n",
       "    </tr>\n",
       "  </tbody>\n",
       "</table>\n",
       "<p>3538 rows × 8 columns</p>\n",
       "</div>"
      ],
      "text/plain": [
       "          STATION                    NAME        DATE  PRCP  SNOW  SNWD  WESD  \\\n",
       "0     US1DENC0010  NEWPORT 2.4 WNW, DE US  2010-01-01  0.28   NaN   0.0   NaN   \n",
       "1     US1DENC0010  NEWPORT 2.4 WNW, DE US  2010-01-02  0.00   0.0   NaN   NaN   \n",
       "2     US1DENC0010  NEWPORT 2.4 WNW, DE US  2010-01-03  0.00   0.0   NaN   NaN   \n",
       "3     US1DENC0010  NEWPORT 2.4 WNW, DE US  2010-01-04  0.00   0.0   NaN   NaN   \n",
       "4     US1DENC0010  NEWPORT 2.4 WNW, DE US  2010-01-05  0.00   NaN   NaN   NaN   \n",
       "...           ...                     ...         ...   ...   ...   ...   ...   \n",
       "3533  US1DENC0010  NEWPORT 2.4 WNW, DE US  2019-09-04  0.00   0.0   NaN   NaN   \n",
       "3534  US1DENC0010  NEWPORT 2.4 WNW, DE US  2019-09-05  0.00   0.0   NaN   NaN   \n",
       "3535  US1DENC0010  NEWPORT 2.4 WNW, DE US  2019-09-06  0.00   0.0   NaN   NaN   \n",
       "3536  US1DENC0010  NEWPORT 2.4 WNW, DE US  2019-09-07  0.02   NaN   NaN   NaN   \n",
       "3537  US1DENC0010  NEWPORT 2.4 WNW, DE US  2019-09-08  0.00   0.0   NaN   NaN   \n",
       "\n",
       "      WESF  \n",
       "0      NaN  \n",
       "1      NaN  \n",
       "2      NaN  \n",
       "3      NaN  \n",
       "4      NaN  \n",
       "...    ...  \n",
       "3533   NaN  \n",
       "3534   NaN  \n",
       "3535   NaN  \n",
       "3536   NaN  \n",
       "3537   NaN  \n",
       "\n",
       "[3538 rows x 8 columns]"
      ]
     },
     "execution_count": 3,
     "metadata": {},
     "output_type": "execute_result"
    }
   ],
   "source": [
    "rain = pd.read_csv(\"https://raw.githubusercontent.com/fedhere/DSPS/master/labs/1865331.csv\")\n",
    "rain"
   ]
  },
  {
   "cell_type": "markdown",
   "metadata": {
    "colab_type": "text",
    "id": "lsWadx6NPywP"
   },
   "source": [
    "\n",
    "The $Z$ statistics is : $Z = \\frac{\\bar{X} - \\mu }{s}$ and $s = \\sigma / \\sqrt(N)$ (you should know what all those symbols mean)\n",
    "\n",
    "1. Extract from the dataframe above the columns \"DATE\" and \"PRCP\" (precipitation)\n",
    "\n",
    "2. Convert the dataframe DATE from ```string``` to ```datetime``` type\n",
    " using pd.datetime() \n",
    "    \n",
    "3. Select the data rows with date later than 2018/01/01. \n",
    "    If your data type conversion worked well you should be able to set the condition as ```rain[<newcolumnname>]> pd.datetime(\"2018/01/01\")```\n",
    "    use the technique called \"broadcasting\" to select the rows: \n",
    "    \n",
    "    ```rain[ rain[<newcolumnname>]> pd.datetime(\"2018/01/01\")]``` which you can save as a new dataframe\n",
    "    \n",
    "4. Calculate the mean of the sample you created $\\bar{X}$ and plug it in  the numerator of the $Z$ statistics: $\\bar{X}- \\mu$\n",
    "\n",
    "5. Calculate the size of the sample and plug it in the formula. Now you have $Z$\n",
    "\n",
    "6. Knowing the distribution of $Z\\sim N(\\mu=0, \\sigma=1)$ and with a confidence $p=0.05$, did you find that the time period 2018/01/01---today has a statistically significant different amount of rain?  \n",
    "    "
   ]
  },
  {
   "cell_type": "code",
   "execution_count": 4,
   "metadata": {
    "colab": {},
    "colab_type": "code",
    "id": "ncJKVT8GPvcD"
   },
   "outputs": [],
   "source": [
    "# rain[\"DATE\"] ## getting only values from one coulmns \n",
    "# rain[\"DATE\"].values ## convert them in to array\n",
    "\n",
    "rainonly = rain[[\"DATE\", \"PRCP\"]]"
   ]
  },
  {
   "cell_type": "code",
   "execution_count": 5,
   "metadata": {
    "colab": {
     "base_uri": "https://localhost:8080/",
     "height": 1000
    },
    "colab_type": "code",
    "id": "eh5Xt_2uFxqh",
    "outputId": "b6d01c59-d760-47e5-8b9c-a00a50afa6fc"
   },
   "outputs": [
    {
     "data": {
      "text/html": [
       "<div>\n",
       "<style scoped>\n",
       "    .dataframe tbody tr th:only-of-type {\n",
       "        vertical-align: middle;\n",
       "    }\n",
       "\n",
       "    .dataframe tbody tr th {\n",
       "        vertical-align: top;\n",
       "    }\n",
       "\n",
       "    .dataframe thead th {\n",
       "        text-align: right;\n",
       "    }\n",
       "</style>\n",
       "<table border=\"1\" class=\"dataframe\">\n",
       "  <thead>\n",
       "    <tr style=\"text-align: right;\">\n",
       "      <th></th>\n",
       "      <th>DATE</th>\n",
       "      <th>PRCP</th>\n",
       "    </tr>\n",
       "  </thead>\n",
       "  <tbody>\n",
       "    <tr>\n",
       "      <td>0</td>\n",
       "      <td>2010-01-01</td>\n",
       "      <td>0.28</td>\n",
       "    </tr>\n",
       "    <tr>\n",
       "      <td>1</td>\n",
       "      <td>2010-01-02</td>\n",
       "      <td>0.00</td>\n",
       "    </tr>\n",
       "    <tr>\n",
       "      <td>2</td>\n",
       "      <td>2010-01-03</td>\n",
       "      <td>0.00</td>\n",
       "    </tr>\n",
       "    <tr>\n",
       "      <td>3</td>\n",
       "      <td>2010-01-04</td>\n",
       "      <td>0.00</td>\n",
       "    </tr>\n",
       "    <tr>\n",
       "      <td>4</td>\n",
       "      <td>2010-01-05</td>\n",
       "      <td>0.00</td>\n",
       "    </tr>\n",
       "  </tbody>\n",
       "</table>\n",
       "</div>"
      ],
      "text/plain": [
       "         DATE  PRCP\n",
       "0  2010-01-01  0.28\n",
       "1  2010-01-02  0.00\n",
       "2  2010-01-03  0.00\n",
       "3  2010-01-04  0.00\n",
       "4  2010-01-05  0.00"
      ]
     },
     "execution_count": 5,
     "metadata": {},
     "output_type": "execute_result"
    }
   ],
   "source": [
    "rainonly.head()"
   ]
  },
  {
   "cell_type": "code",
   "execution_count": 6,
   "metadata": {
    "colab": {
     "base_uri": "https://localhost:8080/",
     "height": 119
    },
    "colab_type": "code",
    "id": "F2g7VAQvF1o8",
    "outputId": "3e3b6d8f-2293-4af6-8c08-bdf65dd99794"
   },
   "outputs": [
    {
     "name": "stderr",
     "output_type": "stream",
     "text": [
      "/home/narayan/miniconda3/lib/python3.7/site-packages/ipykernel_launcher.py:3: SettingWithCopyWarning: \n",
      "A value is trying to be set on a copy of a slice from a DataFrame.\n",
      "Try using .loc[row_indexer,col_indexer] = value instead\n",
      "\n",
      "See the caveats in the documentation: http://pandas.pydata.org/pandas-docs/stable/user_guide/indexing.html#returning-a-view-versus-a-copy\n",
      "  This is separate from the ipykernel package so we can avoid doing imports until\n"
     ]
    }
   ],
   "source": [
    "# rainonly.DATE.dtype ## checking the data type in the onject\n",
    "\n",
    "rainonly['date'] = pd.to_datetime(rainonly.DATE) ## converting into readable format"
   ]
  },
  {
   "cell_type": "code",
   "execution_count": 7,
   "metadata": {
    "colab": {
     "base_uri": "https://localhost:8080/",
     "height": 1000
    },
    "colab_type": "code",
    "id": "WZvaMDSRF2oV",
    "outputId": "7c2fca69-bcbe-43e1-9bd1-8cce13071ae2"
   },
   "outputs": [
    {
     "data": {
      "text/plain": [
       "0      2010-01-01\n",
       "1      2010-01-02\n",
       "2      2010-01-03\n",
       "3      2010-01-04\n",
       "4      2010-01-05\n",
       "          ...    \n",
       "3533   2019-09-04\n",
       "3534   2019-09-05\n",
       "3535   2019-09-06\n",
       "3536   2019-09-07\n",
       "3537   2019-09-08\n",
       "Name: date, Length: 3538, dtype: datetime64[ns]"
      ]
     },
     "execution_count": 7,
     "metadata": {},
     "output_type": "execute_result"
    }
   ],
   "source": [
    "rainonly.date"
   ]
  },
  {
   "cell_type": "code",
   "execution_count": 8,
   "metadata": {
    "colab": {},
    "colab_type": "code",
    "id": "oOCoDyKkF3e8"
   },
   "outputs": [],
   "source": [
    "#rainonly['date'] > pd.to_datetime(\"2018/01/01\")\n",
    "\n",
    "recent = rainonly[rainonly['date'] > pd.to_datetime(\"2018/01/01\")] ## picking a sample from the population\n"
   ]
  },
  {
   "cell_type": "code",
   "execution_count": 9,
   "metadata": {
    "colab": {
     "base_uri": "https://localhost:8080/",
     "height": 1000
    },
    "colab_type": "code",
    "id": "8luegPfWHwvP",
    "outputId": "75039285-e34d-4925-f57b-15350726a352"
   },
   "outputs": [
    {
     "data": {
      "text/html": [
       "<div>\n",
       "<style scoped>\n",
       "    .dataframe tbody tr th:only-of-type {\n",
       "        vertical-align: middle;\n",
       "    }\n",
       "\n",
       "    .dataframe tbody tr th {\n",
       "        vertical-align: top;\n",
       "    }\n",
       "\n",
       "    .dataframe thead th {\n",
       "        text-align: right;\n",
       "    }\n",
       "</style>\n",
       "<table border=\"1\" class=\"dataframe\">\n",
       "  <thead>\n",
       "    <tr style=\"text-align: right;\">\n",
       "      <th></th>\n",
       "      <th>DATE</th>\n",
       "      <th>PRCP</th>\n",
       "      <th>date</th>\n",
       "    </tr>\n",
       "  </thead>\n",
       "  <tbody>\n",
       "    <tr>\n",
       "      <td>2923</td>\n",
       "      <td>2018-01-02</td>\n",
       "      <td>0.00</td>\n",
       "      <td>2018-01-02</td>\n",
       "    </tr>\n",
       "    <tr>\n",
       "      <td>2924</td>\n",
       "      <td>2018-01-03</td>\n",
       "      <td>0.00</td>\n",
       "      <td>2018-01-03</td>\n",
       "    </tr>\n",
       "    <tr>\n",
       "      <td>2925</td>\n",
       "      <td>2018-01-04</td>\n",
       "      <td>0.07</td>\n",
       "      <td>2018-01-04</td>\n",
       "    </tr>\n",
       "    <tr>\n",
       "      <td>2926</td>\n",
       "      <td>2018-01-05</td>\n",
       "      <td>0.20</td>\n",
       "      <td>2018-01-05</td>\n",
       "    </tr>\n",
       "    <tr>\n",
       "      <td>2927</td>\n",
       "      <td>2018-01-06</td>\n",
       "      <td>0.00</td>\n",
       "      <td>2018-01-06</td>\n",
       "    </tr>\n",
       "    <tr>\n",
       "      <td>...</td>\n",
       "      <td>...</td>\n",
       "      <td>...</td>\n",
       "      <td>...</td>\n",
       "    </tr>\n",
       "    <tr>\n",
       "      <td>3533</td>\n",
       "      <td>2019-09-04</td>\n",
       "      <td>0.00</td>\n",
       "      <td>2019-09-04</td>\n",
       "    </tr>\n",
       "    <tr>\n",
       "      <td>3534</td>\n",
       "      <td>2019-09-05</td>\n",
       "      <td>0.00</td>\n",
       "      <td>2019-09-05</td>\n",
       "    </tr>\n",
       "    <tr>\n",
       "      <td>3535</td>\n",
       "      <td>2019-09-06</td>\n",
       "      <td>0.00</td>\n",
       "      <td>2019-09-06</td>\n",
       "    </tr>\n",
       "    <tr>\n",
       "      <td>3536</td>\n",
       "      <td>2019-09-07</td>\n",
       "      <td>0.02</td>\n",
       "      <td>2019-09-07</td>\n",
       "    </tr>\n",
       "    <tr>\n",
       "      <td>3537</td>\n",
       "      <td>2019-09-08</td>\n",
       "      <td>0.00</td>\n",
       "      <td>2019-09-08</td>\n",
       "    </tr>\n",
       "  </tbody>\n",
       "</table>\n",
       "<p>615 rows × 3 columns</p>\n",
       "</div>"
      ],
      "text/plain": [
       "            DATE  PRCP       date\n",
       "2923  2018-01-02  0.00 2018-01-02\n",
       "2924  2018-01-03  0.00 2018-01-03\n",
       "2925  2018-01-04  0.07 2018-01-04\n",
       "2926  2018-01-05  0.20 2018-01-05\n",
       "2927  2018-01-06  0.00 2018-01-06\n",
       "...          ...   ...        ...\n",
       "3533  2019-09-04  0.00 2019-09-04\n",
       "3534  2019-09-05  0.00 2019-09-05\n",
       "3535  2019-09-06  0.00 2019-09-06\n",
       "3536  2019-09-07  0.02 2019-09-07\n",
       "3537  2019-09-08  0.00 2019-09-08\n",
       "\n",
       "[615 rows x 3 columns]"
      ]
     },
     "execution_count": 9,
     "metadata": {},
     "output_type": "execute_result"
    }
   ],
   "source": [
    "recent"
   ]
  },
  {
   "cell_type": "code",
   "execution_count": 0,
   "metadata": {
    "colab": {},
    "colab_type": "code",
    "id": "2gk9fTGNHxg_"
   },
   "outputs": [],
   "source": [
    "# mean and std of sample\n",
    "mean_sample = (recent['PRCP'].values).mean()\n",
    "std_sample = (recent['PRCP'].values).std()\n"
   ]
  },
  {
   "cell_type": "code",
   "execution_count": 0,
   "metadata": {
    "colab": {},
    "colab_type": "code",
    "id": "ljn2amttHyVk"
   },
   "outputs": [],
   "source": [
    "# mean and std of population\n",
    "mean_pop = 0.14\n",
    "std_pop = 0.38\n",
    "N = len(recent) ## length of sample\n"
   ]
  },
  {
   "cell_type": "code",
   "execution_count": 0,
   "metadata": {
    "colab": {
     "base_uri": "https://localhost:8080/",
     "height": 34
    },
    "colab_type": "code",
    "id": "UT7ro-TAHz77",
    "outputId": "740ebcf8-9b63-456b-b3c8-087c05b0faa1"
   },
   "outputs": [
    {
     "name": "stdout",
     "output_type": "stream",
     "text": [
      "1.664421697050835\n"
     ]
    }
   ],
   "source": [
    "# applying Z-test\n",
    "Z = (mean_sample -mean_pop)/(std_pop/np.sqrt(N))\n",
    "print(Z)"
   ]
  },
  {
   "cell_type": "code",
   "execution_count": 0,
   "metadata": {
    "colab": {
     "base_uri": "https://localhost:8080/",
     "height": 34
    },
    "colab_type": "code",
    "id": "lHRwKkK4H0oz",
    "outputId": "f1a1cf50-ae98-49a2-9f81-25e78cd01246"
   },
   "outputs": [
    {
     "name": "stdout",
     "output_type": "stream",
     "text": [
      "Null hypothesis is not rejected, time period 2018/01/01-today does not have statistically significant different amount of rain\n"
     ]
    }
   ],
   "source": [
    "σ = 1\n",
    "if Z>2*σ:\n",
    "  print(\"Null hypothesis is rejected, time period 2018/01/01-today has a statistically significant different amount of rain\")\n",
    "else:\n",
    "  print(\"Null hypothesis is not rejected, time period 2018/01/01-today does not have statistically significant different amount of rain\")\n"
   ]
  }
 ],
 "metadata": {
  "colab": {
   "name": "Z-testlab.ipynb",
   "provenance": [],
   "version": "0.3.2"
  },
  "kernelspec": {
   "display_name": "Python 3",
   "language": "python",
   "name": "python3"
  },
  "language_info": {
   "codemirror_mode": {
    "name": "ipython",
    "version": 3
   },
   "file_extension": ".py",
   "mimetype": "text/x-python",
   "name": "python",
   "nbconvert_exporter": "python",
   "pygments_lexer": "ipython3",
   "version": "3.7.4"
  }
 },
 "nbformat": 4,
 "nbformat_minor": 1
}
