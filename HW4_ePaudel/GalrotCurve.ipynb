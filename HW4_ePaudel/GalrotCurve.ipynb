{
 "cells": [
  {
   "cell_type": "markdown",
   "metadata": {
    "colab_type": "text",
    "id": "view-in-github",
    "run_control": {
     "frozen": false,
     "read_only": false
    }
   },
   "source": [
    "<a href=\"https://colab.research.google.com/github/fedhere/DSPS/blob/master/GalrotCurve.ipynb\" target=\"_parent\"><img src=\"https://colab.research.google.com/assets/colab-badge.svg\" alt=\"Open In Colab\"/></a>"
   ]
  },
  {
   "cell_type": "markdown",
   "metadata": {
    "colab_type": "text",
    "id": "rxa6Xa3jOdCI",
    "run_control": {
     "frozen": false,
     "read_only": false
    }
   },
   "source": [
    "prepared by federica b bianco @fedhere\n",
    "for UDel DSPS PHYS 467/667\n",
    "\n",
    "# testing the significance of Dark Matter"
   ]
  },
  {
   "cell_type": "code",
   "execution_count": 2,
   "metadata": {
    "ExecuteTime": {
     "end_time": "2019-09-16T17:54:57.244596Z",
     "start_time": "2019-09-16T17:54:57.231090Z"
    },
    "colab": {
     "base_uri": "https://localhost:8080/",
     "height": 34
    },
    "colab_type": "code",
    "id": "Ya2RaOGbOdCJ",
    "outputId": "2a010334-d7a9-4927-b780-6382560fb56b",
    "run_control": {
     "frozen": false,
     "read_only": false
    }
   },
   "outputs": [
    {
     "name": "stdout",
     "output_type": "stream",
     "text": [
      "Populating the interactive namespace from numpy and matplotlib\n"
     ]
    }
   ],
   "source": [
    "import pandas as pd\n",
    "import numpy as np\n",
    "import pylab as pl\n",
    "%pylab inline\n",
    "\n",
    "\n",
    "#package I will use for constants and units conversion \n",
    "import astropy\n",
    "\n"
   ]
  },
  {
   "cell_type": "markdown",
   "metadata": {
    "colab_type": "text",
    "id": "4qp8A2TG1Gwb",
    "run_control": {
     "frozen": false,
     "read_only": false
    }
   },
   "source": [
    "In 1970 Vera Rubin published a seminal paper: she measured the rotational speed of HII regions in several galaxies and how it changed as a function of distance to the center of the galaxy. If we believe Newtonian gravity (or GR) we expect that _once all of the mass is included_, i.e. at a radius distance from the center of the galaxy larger than the radius of the galaxy itself, the rotational speed will be proportional to $v\\propto\\frac{1}{r}$"
   ]
  },
  {
   "cell_type": "markdown",
   "metadata": {
    "colab_type": "text",
    "id": "j-BDrNseOdCR",
    "run_control": {
     "frozen": false,
     "read_only": false
    }
   },
   "source": [
    "## Propagation of  uncertainties rules\n",
    "\n",
    "below are the basic rules for propagation of uncertainties - use [this as reference](https://github.com/fedhere/DSPS/blob/master/resources/Managing%20Errors%20and%20Uncertainty.pdf)"
   ]
  },
  {
   "cell_type": "markdown",
   "metadata": {
    "colab_type": "text",
    "id": "iCrFipBzOzqp",
    "run_control": {
     "frozen": false,
     "read_only": false
    }
   },
   "source": [
    "\n",
    "\n",
    "\n",
    "$$\n",
    "\\begin{eqnarray}\n",
    "z = x  \\pm y  ~| & ~  &dz = \\sqrt{dx^2 + dy^2} \n",
    "\\\\\n",
    "z = x * y  ~| & ~& dz = |xy|  \\sqrt{\\left(\\frac{dx}{x}\\right)^2 + \n",
    "                                \\left(\\frac{dy}{y}\\right)^2} \\\\\n",
    "z = x / y  ~| & ~& dz = \\left|\\frac{x}{y}\\right| \\sqrt{\\left(\\frac{dx}{x}\\right)^2 + \n",
    "                                                   \\left(\\frac{dy}{y}\\right)^2} \\\\\n",
    "z = x^n ~| & ~& dz = |n| ~ x^{n-1}  dx \\\\\n",
    "z = \\mathrm{c}x ~| & ~& dz = |\\mathrm{c}| ~dx \\\\\n",
    "z = f(x, y) ~| & ~& dz = \\sqrt{\\left(\\frac{\\partial f}{\\partial x}\\right)^2 dx^2 +\\left(\\frac{\\partial f}{\\partial y}\\right)^2 dy^2} \\\\\n",
    "\\end{eqnarray}\n",
    "$$\n"
   ]
  },
  {
   "cell_type": "markdown",
   "metadata": {
    "colab_type": "text",
    "id": "WcF0zlWCOdCX",
    "run_control": {
     "frozen": false,
     "read_only": false
    }
   },
   "source": [
    "# let's assume a Newtonian framework: \n",
    "the velocity of a body in orbit depends only on the gravitational field of the mass that attracts it, and we can assume that mass is concentrated in the center of mass of (the center for simplicity) the system\n",
    "\n",
    "with G the gravitational constant, $r$ the radius, and $m(r)$ the mass contained within that radius we have the orbital velocity $v$:\n"
   ]
  },
  {
   "cell_type": "markdown",
   "metadata": {
    "colab_type": "text",
    "id": "ZON0DKl5Qm2S",
    "run_control": {
     "frozen": false,
     "read_only": false
    }
   },
   "source": [
    "\n",
    "$v^2 = \\frac{G \\cdot m(r)}{r}$\n"
   ]
  },
  {
   "cell_type": "markdown",
   "metadata": {
    "colab_type": "text",
    "id": "lVfy9lJ21xMT",
    "run_control": {
     "frozen": false,
     "read_only": false
    }
   },
   "source": [
    "Derive this $v^2\\propto\\frac{1}{r}$ from Newton's law $F~=~\\frac{GMm}{r^2}$. Write each formula and describe each step. You can use latex (you really just need to know ```\\frac{}``` and ```^```) and this reference\n",
    "https://www.physicsclassroom.com/calcpad/circgrav"
   ]
  },
  {
   "cell_type": "markdown",
   "metadata": {
    "colab_type": "text",
    "id": "HEB7hQojuAQt",
    "run_control": {
     "frozen": false,
     "read_only": false
    }
   },
   "source": [
    "###Derivation\n",
    "Gravitational force $F_{g}~=~\\frac{GMm}{r^2}$ generates centripetal force $F_{c}~=~\\frac{mv^2}{r}$ required by a star in a galaxy to be in its orbit. So, \n",
    "    \n",
    "  $F_{c}~=~F_{g}$  \n",
    "  $\\frac{mv^2}{r}~=~\\frac{GMm}{r^2}$   \n",
    "  This simplifies to   \n",
    "  $v^2 = \\frac{GM}{r}$   \n",
    "  So,  \n",
    "  $v^2\\propto\\frac{1}{r}$  \n",
    "  The square of orbital velocity of a star is inversly proportional to its radial distance from center of galaxy.\n",
    "\n",
    "\n"
   ]
  },
  {
   "cell_type": "markdown",
   "metadata": {
    "colab_type": "text",
    "id": "KQAEJtWuOdCb",
    "run_control": {
     "frozen": false,
     "read_only": false
    }
   },
   "source": [
    "## M31 rotational curve"
   ]
  },
  {
   "cell_type": "markdown",
   "metadata": {
    "ExecuteTime": {
     "end_time": "2019-08-02T01:34:15.029084Z",
     "start_time": "2019-08-02T01:34:15.026604Z"
    },
    "colab_type": "text",
    "id": "BTaXzFYeOdCc",
    "run_control": {
     "frozen": false,
     "read_only": false
    }
   },
   "source": [
    "# Galaxy Rotational Curves\n",
    "The data comes from [SOFUE 2015](http://www.ioa.s.u-tokyo.ac.jp/~sofue/htdocs/2015m31/2015-pasj-M31MW-DH.pdf)\n",
    "The data are plotted in Figure 3 and 4 for M31 and the Milky Way respectively, and hosted on [this website](http://www.ioa.s.u-tokyo.ac.jp/~sofue/htdocs/2015m31/)\n",
    "As described in the paper: \n",
    "Long and short bars represent modified standard deviations and errors, respectively\n",
    "\n",
    "#### Please read the last paragraphs of Section 2.1 of the paper to understand the meaning of these uncertainties:\n",
    "\n",
    "![figures](figures.png)\n",
    "\n"
   ]
  },
  {
   "cell_type": "markdown",
   "metadata": {
    "ExecuteTime": {
     "end_time": "2019-09-22T00:10:02.465470Z",
     "start_time": "2019-09-22T00:10:02.455255Z"
    },
    "colab_type": "text",
    "id": "jh9QD5bWl13Q",
    "run_control": {
     "frozen": false,
     "read_only": false
    }
   },
   "source": [
    "\n",
    "\n",
    "![text](text.png)\n",
    "\n",
    "### data ingestion\n",
    "Get the data from the github repository https://github.com/fedhere/DSPS/tree/master/HW4 : there are 2 files: mw.csv and m31.csv. Start with M31, the Andromeda galaxy, Vera Rubin's original target."
   ]
  },
  {
   "cell_type": "markdown",
   "metadata": {
    "colab_type": "text",
    "id": "_iFrkUYEV1SS",
    "run_control": {
     "frozen": false,
     "read_only": false
    }
   },
   "source": [
    "Note that the data contains 2 types of uncertainties: one significantly smaller than the other. The ```dv``` uncertainty is the propagation of the uncertainty in the location of the HII line. The uncertainty called ```err``` if the full error budget:  including _all_ sources of uncertainty and not just the uncertainty in measuring the location of the line. Retain both, you will test your hypothesis with each one to see if it matters which uncertainty you choose"
   ]
  },
  {
   "cell_type": "code",
   "execution_count": 0,
   "metadata": {
    "colab": {},
    "colab_type": "code",
    "id": "PFYBlhUjt8_e",
    "run_control": {
     "frozen": false,
     "read_only": false
    }
   },
   "outputs": [],
   "source": [
    "# to import the csv as dataframe\n",
    "m31=pd.read_csv(\"https://raw.githubusercontent.com/narayan-paudel/DSPS_EPAUDEL/master/HW4_ePaudel/m31.csv\",comment='#',delim_whitespace=False,names=[\"r\",\"v\",\"dv\",\"err\"])"
   ]
  },
  {
   "cell_type": "code",
   "execution_count": 27,
   "metadata": {
    "colab": {
     "base_uri": "https://localhost:8080/",
     "height": 204
    },
    "colab_type": "code",
    "id": "luL5UrsNQ1M1",
    "outputId": "fcf56da7-3228-4c8c-b1ac-0735acf68cc1",
    "run_control": {
     "frozen": false,
     "read_only": false
    }
   },
   "outputs": [
    {
     "data": {
      "text/html": [
       "<div>\n",
       "<style scoped>\n",
       "    .dataframe tbody tr th:only-of-type {\n",
       "        vertical-align: middle;\n",
       "    }\n",
       "\n",
       "    .dataframe tbody tr th {\n",
       "        vertical-align: top;\n",
       "    }\n",
       "\n",
       "    .dataframe thead th {\n",
       "        text-align: right;\n",
       "    }\n",
       "</style>\n",
       "<table border=\"1\" class=\"dataframe\">\n",
       "  <thead>\n",
       "    <tr style=\"text-align: right;\">\n",
       "      <th></th>\n",
       "      <th>r</th>\n",
       "      <th>v</th>\n",
       "      <th>dv</th>\n",
       "      <th>err</th>\n",
       "    </tr>\n",
       "  </thead>\n",
       "  <tbody>\n",
       "    <tr>\n",
       "      <th>0</th>\n",
       "      <td>0.100</td>\n",
       "      <td>183.939</td>\n",
       "      <td>0.000</td>\n",
       "      <td>0.000</td>\n",
       "    </tr>\n",
       "    <tr>\n",
       "      <th>1</th>\n",
       "      <td>0.120</td>\n",
       "      <td>190.710</td>\n",
       "      <td>10.265</td>\n",
       "      <td>12.191</td>\n",
       "    </tr>\n",
       "    <tr>\n",
       "      <th>2</th>\n",
       "      <td>0.144</td>\n",
       "      <td>204.141</td>\n",
       "      <td>22.634</td>\n",
       "      <td>21.808</td>\n",
       "    </tr>\n",
       "    <tr>\n",
       "      <th>3</th>\n",
       "      <td>0.173</td>\n",
       "      <td>207.601</td>\n",
       "      <td>4.573</td>\n",
       "      <td>4.200</td>\n",
       "    </tr>\n",
       "    <tr>\n",
       "      <th>4</th>\n",
       "      <td>0.207</td>\n",
       "      <td>210.188</td>\n",
       "      <td>3.943</td>\n",
       "      <td>3.258</td>\n",
       "    </tr>\n",
       "  </tbody>\n",
       "</table>\n",
       "</div>"
      ],
      "text/plain": [
       "       r        v      dv     err\n",
       "0  0.100  183.939   0.000   0.000\n",
       "1  0.120  190.710  10.265  12.191\n",
       "2  0.144  204.141  22.634  21.808\n",
       "3  0.173  207.601   4.573   4.200\n",
       "4  0.207  210.188   3.943   3.258"
      ]
     },
     "execution_count": 27,
     "metadata": {
      "tags": []
     },
     "output_type": "execute_result"
    }
   ],
   "source": [
    "\n",
    "m31.head()"
   ]
  },
  {
   "cell_type": "code",
   "execution_count": 5,
   "metadata": {
    "ExecuteTime": {
     "end_time": "2019-08-02T01:35:26.395158Z",
     "start_time": "2019-08-02T01:35:26.373338Z"
    },
    "colab": {
     "base_uri": "https://localhost:8080/",
     "height": 297
    },
    "colab_type": "code",
    "id": "QsNRokb1OdCh",
    "outputId": "821c0eb0-a20c-4ce1-f4f7-6e0d4758c901",
    "run_control": {
     "frozen": false,
     "read_only": false
    }
   },
   "outputs": [
    {
     "data": {
      "text/html": [
       "<div>\n",
       "<style scoped>\n",
       "    .dataframe tbody tr th:only-of-type {\n",
       "        vertical-align: middle;\n",
       "    }\n",
       "\n",
       "    .dataframe tbody tr th {\n",
       "        vertical-align: top;\n",
       "    }\n",
       "\n",
       "    .dataframe thead th {\n",
       "        text-align: right;\n",
       "    }\n",
       "</style>\n",
       "<table border=\"1\" class=\"dataframe\">\n",
       "  <thead>\n",
       "    <tr style=\"text-align: right;\">\n",
       "      <th></th>\n",
       "      <th>r</th>\n",
       "      <th>v</th>\n",
       "      <th>dv</th>\n",
       "      <th>err</th>\n",
       "    </tr>\n",
       "  </thead>\n",
       "  <tbody>\n",
       "    <tr>\n",
       "      <th>count</th>\n",
       "      <td>55.000000</td>\n",
       "      <td>55.000000</td>\n",
       "      <td>55.000000</td>\n",
       "      <td>55.000000</td>\n",
       "    </tr>\n",
       "    <tr>\n",
       "      <th>mean</th>\n",
       "      <td>205.853182</td>\n",
       "      <td>226.079255</td>\n",
       "      <td>55.034818</td>\n",
       "      <td>16.165855</td>\n",
       "    </tr>\n",
       "    <tr>\n",
       "      <th>std</th>\n",
       "      <td>415.523904</td>\n",
       "      <td>42.799892</td>\n",
       "      <td>49.254792</td>\n",
       "      <td>14.876951</td>\n",
       "    </tr>\n",
       "    <tr>\n",
       "      <th>min</th>\n",
       "      <td>0.100000</td>\n",
       "      <td>121.974000</td>\n",
       "      <td>0.000000</td>\n",
       "      <td>0.000000</td>\n",
       "    </tr>\n",
       "    <tr>\n",
       "      <th>25%</th>\n",
       "      <td>1.177000</td>\n",
       "      <td>208.894500</td>\n",
       "      <td>11.945500</td>\n",
       "      <td>3.224000</td>\n",
       "    </tr>\n",
       "    <tr>\n",
       "      <th>50%</th>\n",
       "      <td>13.737000</td>\n",
       "      <td>229.124000</td>\n",
       "      <td>30.697000</td>\n",
       "      <td>12.065000</td>\n",
       "    </tr>\n",
       "    <tr>\n",
       "      <th>75%</th>\n",
       "      <td>161.675000</td>\n",
       "      <td>244.102500</td>\n",
       "      <td>99.980000</td>\n",
       "      <td>23.641000</td>\n",
       "    </tr>\n",
       "    <tr>\n",
       "      <th>max</th>\n",
       "      <td>1887.071000</td>\n",
       "      <td>414.942000</td>\n",
       "      <td>147.835000</td>\n",
       "      <td>54.110000</td>\n",
       "    </tr>\n",
       "  </tbody>\n",
       "</table>\n",
       "</div>"
      ],
      "text/plain": [
       "                 r           v          dv        err\n",
       "count    55.000000   55.000000   55.000000  55.000000\n",
       "mean    205.853182  226.079255   55.034818  16.165855\n",
       "std     415.523904   42.799892   49.254792  14.876951\n",
       "min       0.100000  121.974000    0.000000   0.000000\n",
       "25%       1.177000  208.894500   11.945500   3.224000\n",
       "50%      13.737000  229.124000   30.697000  12.065000\n",
       "75%     161.675000  244.102500   99.980000  23.641000\n",
       "max    1887.071000  414.942000  147.835000  54.110000"
      ]
     },
     "execution_count": 5,
     "metadata": {
      "tags": []
     },
     "output_type": "execute_result"
    }
   ],
   "source": [
    "m31.describe()"
   ]
  },
  {
   "cell_type": "markdown",
   "metadata": {
    "colab_type": "text",
    "id": "Vv0Ut6vOOdCk",
    "run_control": {
     "frozen": false,
     "read_only": false
    }
   },
   "source": [
    "from https://en.wikipedia.org/wiki/Andromeda_Galaxy get the extent of the luminous component of M31 (Andromeda). The distance of the Galaxy multiplied by the angular size will give you this information from basic trigonometry (make sure you convert the units properly, using astropy). Make sure you include the uncertainties! uncertainties in the distance will give you the uncertainty in the size\n",
    "   \n",
    " "
   ]
  },
  {
   "cell_type": "code",
   "execution_count": 0,
   "metadata": {
    "colab": {},
    "colab_type": "code",
    "id": "kvIFr6D778ri",
    "run_control": {
     "frozen": false,
     "read_only": false
    }
   },
   "outputs": [],
   "source": [
    "apparentSizeM31 = 3.167 # *1 deg\n",
    "distanceM31 = 778 # kpc \n",
    "distanceM31_uncert = 33 #uncertainity in distance"
   ]
  },
  {
   "cell_type": "code",
   "execution_count": 7,
   "metadata": {
    "ExecuteTime": {
     "end_time": "2019-08-02T01:35:41.413407Z",
     "start_time": "2019-08-02T01:35:41.408764Z"
    },
    "colab": {
     "base_uri": "https://localhost:8080/",
     "height": 34
    },
    "colab_type": "code",
    "id": "tzGNh98hOdCl",
    "outputId": "e7af9a3d-abf3-4964-b8f9-b664b109b7cd",
    "run_control": {
     "frozen": false,
     "read_only": false
    }
   },
   "outputs": [
    {
     "name": "stdout",
     "output_type": "stream",
     "text": [
      "Angular Size of the visible component of Andromeda: 0.05527 rad\n"
     ]
    }
   ],
   "source": [
    "# note : by PEP8 standards the import should be at the top, I leave it here for hyou to see that I am using astropy.units now\n",
    "from astropy import units as u\n",
    "m31angS = apparentSizeM31 * u.degree\n",
    "print(\"Angular Size of the visible component of Andromeda: {:.5f}\".format(m31angS.to(u.rad)  ))"
   ]
  },
  {
   "cell_type": "markdown",
   "metadata": {
    "colab_type": "text",
    "id": "cOw0Y4KNWTOZ",
    "run_control": {
     "frozen": false,
     "read_only": false
    }
   },
   "source": [
    "Please make sure you print a sensible number of decimal digits! you have a  number of significant digits set by the number of digit in the info you get from wikipedia"
   ]
  },
  {
   "cell_type": "markdown",
   "metadata": {
    "colab_type": "text",
    "id": "hF2wXZ988QgS",
    "run_control": {
     "frozen": false,
     "read_only": false
    }
   },
   "source": [
    "The distance, from Wikipedia, will have an uncertainty. Convert both to kiloparsecs Kpc"
   ]
  },
  {
   "cell_type": "code",
   "execution_count": 8,
   "metadata": {
    "ExecuteTime": {
     "end_time": "2019-08-02T01:35:42.815232Z",
     "start_time": "2019-08-02T01:35:42.810316Z"
    },
    "colab": {
     "base_uri": "https://localhost:8080/",
     "height": 51
    },
    "colab_type": "code",
    "id": "0y_V9AuFOdCv",
    "outputId": "49f03496-82c3-4264-db9e-e96dcad556c2",
    "run_control": {
     "frozen": false,
     "read_only": false
    }
   },
   "outputs": [
    {
     "name": "stdout",
     "output_type": "stream",
     "text": [
      "The distance of Andromeda : 778 ±  33 kpc\n",
      "Size of the visible component of Andromeda : 43.0 ± 1.8 kpc\n"
     ]
    }
   ],
   "source": [
    "print (\"The distance of Andromeda : {:3.0f} \\u00B1 {:3.0f} kpc\".format(distanceM31, distanceM31_uncert))\n",
    "#calculate the size of visible component\n",
    "m31_size = distanceM31*(m31angS.to(u.rad)).value\n",
    "m31_size_uncert = distanceM31_uncert*(m31angS.to(u.rad)).value\n",
    "print(\"Size of the visible component of Andromeda : {:3.1f} \\u00B1 {:3.1f} kpc\".format(m31_size, m31_size_uncert) )"
   ]
  },
  {
   "cell_type": "markdown",
   "metadata": {
    "colab_type": "text",
    "id": "_pTXgdTL8jv6",
    "run_control": {
     "frozen": false,
     "read_only": false
    }
   },
   "source": [
    "Print the distance like I printed the angular size. \n",
    "\n",
    "To get the physical size of the visible component of andtomeda you can use simple trigonometry: $y = r * sin(\\alpha) ~ \\sim ~ r \\alpha $ for small angles \n",
    "\n",
    "\n",
    "Print the physical size of the Andromeda galaxy (remember decimal digits, proper formatting etc etc). \n"
   ]
  },
  {
   "cell_type": "markdown",
   "metadata": {
    "colab_type": "text",
    "id": "97o52hRhOdCy",
    "run_control": {
     "frozen": false,
     "read_only": false
    }
   },
   "source": [
    "### find the first measurement  in your data table that includes all the luminous mass. \n",
    "\n",
    "What is the smallest radius in your data where the luminous mass is completely included and what is the veolcity at that radius?\n",
    "You can do it by broadcasting (see homework 3)"
   ]
  },
  {
   "cell_type": "markdown",
   "metadata": {
    "colab_type": "text",
    "id": "TVWiU84XOdDA",
    "run_control": {
     "frozen": false,
     "read_only": false
    }
   },
   "source": [
    "We expect the velocity to decrease as 1/r if all mass is included: the velocity at a radius twice as far as the radius that includes all the mass should be a factor 2 slower, three times as far a factor 3 slower. "
   ]
  },
  {
   "cell_type": "markdown",
   "metadata": {
    "colab_type": "text",
    "id": "b096Ax33SiXl",
    "run_control": {
     "frozen": false,
     "read_only": false
    }
   },
   "source": [
    "write a function that \n",
    "\n",
    "1. finds the smallest radius in the dataset that is at least N times the radius of the visible galaxy, \n",
    "\n",
    "2. takes as arguments:\n",
    "    - the data and \n",
    "    - N \n",
    "    - the size of the luminous component of the galaxy\n",
    " \n",
    "2. Returns the value of the radius and its uncertainty and the velocity and its uncertainty"
   ]
  },
  {
   "cell_type": "code",
   "execution_count": 0,
   "metadata": {
    "ExecuteTime": {
     "end_time": "2019-08-02T02:07:26.053511Z",
     "start_time": "2019-08-02T02:07:26.046677Z"
    },
    "colab": {},
    "colab_type": "code",
    "id": "-_O34Bb7OdC2",
    "run_control": {
     "frozen": false,
     "read_only": false
    }
   },
   "outputs": [],
   "source": [
    "def getradii(gal, gsize, n):\n",
    "    \n",
    "    values_gal = gal[gal.r > n * gsize].iloc[0]\n",
    "    ## Dataframe.iloc[] method is used when the index label of a data frame is something other than numeric\n",
    "    ## series of 0, 1, 2, 3….n or in case the user doesn’t know the index label. Rows can be extracted using\n",
    "    ##an imaginary index position which isn’t visible in the data frame\n",
    "    return values_gal.r, values_gal.err,  values_gal.v, values_gal.dv"
   ]
  },
  {
   "cell_type": "code",
   "execution_count": 10,
   "metadata": {
    "colab": {
     "base_uri": "https://localhost:8080/",
     "height": 34
    },
    "colab_type": "code",
    "id": "nnIRqmtgEelH",
    "outputId": "b112d7d9-061f-47e3-d7c4-b2b0d6dce35a"
   },
   "outputs": [
    {
     "data": {
      "text/plain": [
       "(49.222, 23.924, 237.06900000000002, 109.381)"
      ]
     },
     "execution_count": 10,
     "metadata": {
      "tags": []
     },
     "output_type": "execute_result"
    }
   ],
   "source": [
    "gal_m31 = getradii(m31, m31_size, 1)\n",
    "gal_m31"
   ]
  },
  {
   "cell_type": "markdown",
   "metadata": {
    "ExecuteTime": {
     "end_time": "2019-08-01T18:13:58.231637Z",
     "start_time": "2019-08-01T18:13:58.229447Z"
    },
    "colab_type": "text",
    "id": "ogu_iquzOdC5",
    "run_control": {
     "frozen": false,
     "read_only": false
    }
   },
   "source": [
    "### data visualization"
   ]
  },
  {
   "cell_type": "markdown",
   "metadata": {
    "colab_type": "text",
    "id": "kJ6MujVJUyel",
    "run_control": {
     "frozen": false,
     "read_only": false
    }
   },
   "source": [
    "make a plot that shows\n",
    "\n",
    "1. the rotational curve of the galaxy (as a line)\n",
    "\n",
    "2. each velocity as an errorbar with error equal to err in the same color as the line in 1\n",
    "\n",
    "3. each velocity as an errorbar with error equal to dv in  the same color but a different line thickness\n",
    "\n",
    "\n",
    "4. the datapoint corresponding to N=1, 2, 3 each in a different color. \n",
    "\n",
    "5. add a legend that indicates the meaning of each color (```pl.legend()```)\n",
    "\n",
    "6. add a text that indicates the velocity and its uncertainty (dv and err) just below the largest errorbar (```pl.text()```)\n",
    "\n",
    "7. limit the x axis to the \"relevant\" portion of the data"
   ]
  },
  {
   "cell_type": "code",
   "execution_count": 0,
   "metadata": {
    "ExecuteTime": {
     "end_time": "2019-08-02T03:01:27.556063Z",
     "start_time": "2019-08-02T03:01:27.302184Z"
    },
    "colab": {},
    "colab_type": "code",
    "id": "7IMXYY8BOdC6",
    "run_control": {
     "frozen": false,
     "read_only": false
    }
   },
   "outputs": [],
   "source": [
    "def plotGal(gal, rds):\n",
    "    ...\n",
    "plotGal(m31, m31Rds)"
   ]
  },
  {
   "cell_type": "code",
   "execution_count": 50,
   "metadata": {
    "colab": {
     "base_uri": "https://localhost:8080/",
     "height": 337
    },
    "colab_type": "code",
    "id": "0FcIHH-yGHuV",
    "outputId": "b86b89a6-d656-42ca-dc5d-888653736595"
   },
   "outputs": [
    {
     "data": {
      "image/png": "[encoded data removed]",
      "text/plain": [
       "<Figure size 576x360 with 1 Axes>"
      ]
     },
     "metadata": {
      "tags": []
     },
     "output_type": "display_data"
    }
   ],
   "source": [
    "def plotGal(gal, rds):\n",
    "    pl.figure(figsize=(8, 5))\n",
    "    pl.plot(gal.r, gal.v, label='v', color='b', linewidth=1.5)\n",
    "    pl.errorbar(gal.r, gal.v, gal.dv, color='b', label=None, elinewidth=1.5)\n",
    "    pl.errorbar(gal.r, gal.v, gal.err, color='b', label=None, elinewidth=2.5)\n",
    "    \n",
    "    # values_gal.r, values_gal.err,  values_gal.v, values_gal.dv\n",
    "\n",
    "    r_1, derr_1, v_1, dv_1 = getradii(gal, rds, 1)\n",
    "    pl.errorbar(r_1, v_1, dv_1, label='%i$\\\\times$radius'%1, color='orange', elinewidth=1.5)\n",
    "    pl.text(s='%.1f\\n(%.1f, %.1f)'%(v_1, dv_1, derr_1), x=r_1, y=(v_1-1.3*dv_1), horizontalalignment='center')\n",
    "\n",
    "\n",
    "\n",
    "    r_2, derr_2, v_2, dv_2 = getradii(gal, rds, 2)\n",
    "    pl.errorbar(r_2, v_2, dv_2, label='%i$\\\\times$radius'%2, color='g', elinewidth=1.5)\n",
    "    pl.text(s='%.1f\\n(%.1f, %.1f)'%(v_2, dv_2, derr_2), x=r_2, y=(v_2-1.3*dv_2), horizontalalignment='center')\n",
    "\n",
    "    r_3, derr_3, v_3, dv_3 = getradii(gal, rds, 3)\n",
    "    pl.errorbar(r_3, v_3, dv_3, label='%i$\\\\times$radius'%3, color='r', elinewidth=1.5)\n",
    "    pl.text(s='%.1f\\n(%.1f, %.1f)'%(v_3, dv_3, derr_3), x=r_3, y=(v_3-1.3*dv_3), horizontalalignment='center')\n",
    "    \n",
    "\n",
    "    pl.xlim([0, 177])\n",
    "    pl.xlabel('radius (kpc)')\n",
    "    pl.ylabel('velocity (km/s)')\n",
    "    pl.legend()\n",
    "\n",
    "plotGal(m31, rds=m31_size)"
   ]
  },
  {
   "cell_type": "markdown",
   "metadata": {
    "colab_type": "text",
    "id": "bIbv3YrhTo0X",
    "run_control": {
     "frozen": false,
     "read_only": false
    }
   },
   "source": [
    "Write a function that for a given dataset and a given luminous radius and a given N \n",
    "  \n",
    "  1) uses the function above to find the radius at least as large as needed and the velocity at that radius, \n",
    "  \n",
    "  2) states the expected drop in rotational velocities according to Newton's law $v\\propto 1/r$\n",
    "  \n",
    "  3) calculates the ratio of radii and the ratio of velocities at N radii from the center N=1 and N=N (input, e.g. 2, 3 etc) with uncertainties, \n",
    "  \n",
    "  4) and stated whether that ratio is consistent within the uncertainties with Newton's law $v \\propto 1/r$\n",
    "  \n",
    "Your function should print \n",
    "\n",
    "     - the expected ratio based on the radii, \n",
    "     - the calculated ratio using ```dv```, and its uncertainty, - \n",
    "     - the 2-$\\sigma$ upper and lower limits of the calculated ratio\n",
    "     - whether the expected ratio is within the $2-\\sigma$ of the calculated ratio, \n",
    "  5) and the same using ```err```  instead of ```dv```"
   ]
  },
  {
   "cell_type": "code",
   "execution_count": 0,
   "metadata": {
    "colab": {},
    "colab_type": "code",
    "id": "TLi_xtpUIhRx"
   },
   "outputs": [],
   "source": [
    "def getradii(gal, gsize, n):\n",
    "    \n",
    "    values_gal = gal[gal.r > n * gsize].iloc[0]\n",
    "    ## Dataframe.iloc[] method is used when the index label of a data frame is something other than numeric\n",
    "    ## series of 0, 1, 2, 3….n or in case the user doesn’t know the index label. Rows can be extracted using\n",
    "    ##an imaginary index position which isn’t visible in the data frame\n",
    "    return values_gal"
   ]
  },
  {
   "cell_type": "code",
   "execution_count": 0,
   "metadata": {
    "ExecuteTime": {
     "end_time": "2019-08-02T02:22:18.485172Z",
     "start_time": "2019-08-02T02:22:18.477807Z"
    },
    "colab": {},
    "colab_type": "code",
    "id": "1hhTw8N4OdDB",
    "run_control": {
     "frozen": false,
     "read_only": false
    }
   },
   "outputs": [],
   "source": [
    "def vratios(gal, rds, N=[1, 2, 3], err='dv'):\n",
    "    # calculate ratio of velocities\n",
    "    gal_1 = getradii(gal, rds, 1)\n",
    "    expected = []\n",
    "    calculated = []\n",
    "    std = []\n",
    "    for n in N:\n",
    "        expected.append(1.0/n)\n",
    "        gal_n = getradii(gal, rds, n)\n",
    "        calculated.append(gal_n.v**2 / gal_1.v**2)\n",
    "        std.append(gal_n.v**2 / gal_1.v**2 * np.sqrt((2 * gal_n[err] /gal_n.v)**2 + (2 * gal_1[err] / gal_1.v)**2))\n",
    "    \n",
    "    df = pd.DataFrame({'N':N, 'expected':expected, 'calculated':calculated, 'calculated_std':std})  \n",
    "    df['upper limit'] = df.calculated + 2*df.calculated_std\n",
    "    df['lower limit'] = df.calculated - 2*df.calculated_std\n",
    "    df['check'] = (df.expected<=df['upper limit']) & (df.expected>=df['lower limit'])\n",
    "\n",
    "\n",
    "    return df"
   ]
  },
  {
   "cell_type": "code",
   "execution_count": 49,
   "metadata": {
    "ExecuteTime": {
     "end_time": "2019-08-02T02:22:20.233692Z",
     "start_time": "2019-08-02T02:22:20.225631Z"
    },
    "colab": {
     "base_uri": "https://localhost:8080/",
     "height": 1000
    },
    "colab_type": "code",
    "id": "8TPkTIthOdDI",
    "outputId": "c46dbff2-8aea-48d4-fe57-b69ac240caee",
    "run_control": {
     "frozen": false,
     "read_only": false
    }
   },
   "outputs": [
    {
     "data": {
      "text/html": [
       "<div>\n",
       "<style scoped>\n",
       "    .dataframe tbody tr th:only-of-type {\n",
       "        vertical-align: middle;\n",
       "    }\n",
       "\n",
       "    .dataframe tbody tr th {\n",
       "        vertical-align: top;\n",
       "    }\n",
       "\n",
       "    .dataframe thead th {\n",
       "        text-align: right;\n",
       "    }\n",
       "</style>\n",
       "<table border=\"1\" class=\"dataframe\">\n",
       "  <thead>\n",
       "    <tr style=\"text-align: right;\">\n",
       "      <th></th>\n",
       "      <th>N</th>\n",
       "      <th>expected</th>\n",
       "      <th>calculated</th>\n",
       "      <th>calculated_std</th>\n",
       "      <th>upper limit</th>\n",
       "      <th>lower limit</th>\n",
       "      <th>check</th>\n",
       "    </tr>\n",
       "  </thead>\n",
       "  <tbody>\n",
       "    <tr>\n",
       "      <th>0</th>\n",
       "      <td>1</td>\n",
       "      <td>1.000000</td>\n",
       "      <td>1.000000</td>\n",
       "      <td>1.305005</td>\n",
       "      <td>3.610010</td>\n",
       "      <td>-1.610010</td>\n",
       "      <td>True</td>\n",
       "    </tr>\n",
       "    <tr>\n",
       "      <th>1</th>\n",
       "      <td>2</td>\n",
       "      <td>0.500000</td>\n",
       "      <td>0.807268</td>\n",
       "      <td>1.250178</td>\n",
       "      <td>3.307624</td>\n",
       "      <td>-1.693088</td>\n",
       "      <td>True</td>\n",
       "    </tr>\n",
       "    <tr>\n",
       "      <th>2</th>\n",
       "      <td>3</td>\n",
       "      <td>0.333333</td>\n",
       "      <td>0.560725</td>\n",
       "      <td>0.731105</td>\n",
       "      <td>2.022935</td>\n",
       "      <td>-0.901485</td>\n",
       "      <td>True</td>\n",
       "    </tr>\n",
       "    <tr>\n",
       "      <th>3</th>\n",
       "      <td>4</td>\n",
       "      <td>0.250000</td>\n",
       "      <td>0.486326</td>\n",
       "      <td>0.627925</td>\n",
       "      <td>1.742177</td>\n",
       "      <td>-0.769525</td>\n",
       "      <td>True</td>\n",
       "    </tr>\n",
       "    <tr>\n",
       "      <th>4</th>\n",
       "      <td>5</td>\n",
       "      <td>0.200000</td>\n",
       "      <td>0.459994</td>\n",
       "      <td>0.613439</td>\n",
       "      <td>1.686872</td>\n",
       "      <td>-0.766883</td>\n",
       "      <td>True</td>\n",
       "    </tr>\n",
       "    <tr>\n",
       "      <th>5</th>\n",
       "      <td>6</td>\n",
       "      <td>0.166667</td>\n",
       "      <td>0.406248</td>\n",
       "      <td>0.549795</td>\n",
       "      <td>1.505837</td>\n",
       "      <td>-0.693342</td>\n",
       "      <td>True</td>\n",
       "    </tr>\n",
       "    <tr>\n",
       "      <th>6</th>\n",
       "      <td>7</td>\n",
       "      <td>0.142857</td>\n",
       "      <td>0.406248</td>\n",
       "      <td>0.549795</td>\n",
       "      <td>1.505837</td>\n",
       "      <td>-0.693342</td>\n",
       "      <td>True</td>\n",
       "    </tr>\n",
       "    <tr>\n",
       "      <th>7</th>\n",
       "      <td>8</td>\n",
       "      <td>0.125000</td>\n",
       "      <td>0.264719</td>\n",
       "      <td>0.484817</td>\n",
       "      <td>1.234352</td>\n",
       "      <td>-0.704914</td>\n",
       "      <td>True</td>\n",
       "    </tr>\n",
       "    <tr>\n",
       "      <th>8</th>\n",
       "      <td>9</td>\n",
       "      <td>0.111111</td>\n",
       "      <td>0.504004</td>\n",
       "      <td>0.885104</td>\n",
       "      <td>2.274212</td>\n",
       "      <td>-1.266203</td>\n",
       "      <td>True</td>\n",
       "    </tr>\n",
       "    <tr>\n",
       "      <th>9</th>\n",
       "      <td>10</td>\n",
       "      <td>0.100000</td>\n",
       "      <td>0.504004</td>\n",
       "      <td>0.885104</td>\n",
       "      <td>2.274212</td>\n",
       "      <td>-1.266203</td>\n",
       "      <td>True</td>\n",
       "    </tr>\n",
       "    <tr>\n",
       "      <th>10</th>\n",
       "      <td>11</td>\n",
       "      <td>0.090909</td>\n",
       "      <td>0.715606</td>\n",
       "      <td>1.100449</td>\n",
       "      <td>2.916503</td>\n",
       "      <td>-1.485291</td>\n",
       "      <td>True</td>\n",
       "    </tr>\n",
       "    <tr>\n",
       "      <th>11</th>\n",
       "      <td>12</td>\n",
       "      <td>0.083333</td>\n",
       "      <td>0.715606</td>\n",
       "      <td>1.100449</td>\n",
       "      <td>2.916503</td>\n",
       "      <td>-1.485291</td>\n",
       "      <td>True</td>\n",
       "    </tr>\n",
       "    <tr>\n",
       "      <th>12</th>\n",
       "      <td>13</td>\n",
       "      <td>0.076923</td>\n",
       "      <td>1.016127</td>\n",
       "      <td>1.568367</td>\n",
       "      <td>4.152860</td>\n",
       "      <td>-2.120606</td>\n",
       "      <td>True</td>\n",
       "    </tr>\n",
       "    <tr>\n",
       "      <th>13</th>\n",
       "      <td>14</td>\n",
       "      <td>0.071429</td>\n",
       "      <td>1.016127</td>\n",
       "      <td>1.568367</td>\n",
       "      <td>4.152860</td>\n",
       "      <td>-2.120606</td>\n",
       "      <td>True</td>\n",
       "    </tr>\n",
       "    <tr>\n",
       "      <th>14</th>\n",
       "      <td>15</td>\n",
       "      <td>0.066667</td>\n",
       "      <td>1.094953</td>\n",
       "      <td>1.630797</td>\n",
       "      <td>4.356548</td>\n",
       "      <td>-2.166642</td>\n",
       "      <td>True</td>\n",
       "    </tr>\n",
       "    <tr>\n",
       "      <th>15</th>\n",
       "      <td>16</td>\n",
       "      <td>0.062500</td>\n",
       "      <td>1.094953</td>\n",
       "      <td>1.630797</td>\n",
       "      <td>4.356548</td>\n",
       "      <td>-2.166642</td>\n",
       "      <td>True</td>\n",
       "    </tr>\n",
       "    <tr>\n",
       "      <th>16</th>\n",
       "      <td>17</td>\n",
       "      <td>0.058824</td>\n",
       "      <td>1.094953</td>\n",
       "      <td>1.630797</td>\n",
       "      <td>4.356548</td>\n",
       "      <td>-2.166642</td>\n",
       "      <td>True</td>\n",
       "    </tr>\n",
       "    <tr>\n",
       "      <th>17</th>\n",
       "      <td>18</td>\n",
       "      <td>0.055556</td>\n",
       "      <td>1.115422</td>\n",
       "      <td>1.626542</td>\n",
       "      <td>4.368506</td>\n",
       "      <td>-2.137661</td>\n",
       "      <td>True</td>\n",
       "    </tr>\n",
       "    <tr>\n",
       "      <th>18</th>\n",
       "      <td>19</td>\n",
       "      <td>0.052632</td>\n",
       "      <td>1.115422</td>\n",
       "      <td>1.626542</td>\n",
       "      <td>4.368506</td>\n",
       "      <td>-2.137661</td>\n",
       "      <td>True</td>\n",
       "    </tr>\n",
       "    <tr>\n",
       "      <th>19</th>\n",
       "      <td>20</td>\n",
       "      <td>0.050000</td>\n",
       "      <td>1.115422</td>\n",
       "      <td>1.626542</td>\n",
       "      <td>4.368506</td>\n",
       "      <td>-2.137661</td>\n",
       "      <td>True</td>\n",
       "    </tr>\n",
       "    <tr>\n",
       "      <th>20</th>\n",
       "      <td>21</td>\n",
       "      <td>0.047619</td>\n",
       "      <td>1.115422</td>\n",
       "      <td>1.626542</td>\n",
       "      <td>4.368506</td>\n",
       "      <td>-2.137661</td>\n",
       "      <td>True</td>\n",
       "    </tr>\n",
       "    <tr>\n",
       "      <th>21</th>\n",
       "      <td>22</td>\n",
       "      <td>0.045455</td>\n",
       "      <td>1.041171</td>\n",
       "      <td>1.532239</td>\n",
       "      <td>4.105648</td>\n",
       "      <td>-2.023306</td>\n",
       "      <td>True</td>\n",
       "    </tr>\n",
       "    <tr>\n",
       "      <th>22</th>\n",
       "      <td>23</td>\n",
       "      <td>0.043478</td>\n",
       "      <td>1.041171</td>\n",
       "      <td>1.532239</td>\n",
       "      <td>4.105648</td>\n",
       "      <td>-2.023306</td>\n",
       "      <td>True</td>\n",
       "    </tr>\n",
       "    <tr>\n",
       "      <th>23</th>\n",
       "      <td>24</td>\n",
       "      <td>0.041667</td>\n",
       "      <td>1.041171</td>\n",
       "      <td>1.532239</td>\n",
       "      <td>4.105648</td>\n",
       "      <td>-2.023306</td>\n",
       "      <td>True</td>\n",
       "    </tr>\n",
       "    <tr>\n",
       "      <th>24</th>\n",
       "      <td>25</td>\n",
       "      <td>0.040000</td>\n",
       "      <td>1.041171</td>\n",
       "      <td>1.532239</td>\n",
       "      <td>4.105648</td>\n",
       "      <td>-2.023306</td>\n",
       "      <td>True</td>\n",
       "    </tr>\n",
       "    <tr>\n",
       "      <th>25</th>\n",
       "      <td>26</td>\n",
       "      <td>0.038462</td>\n",
       "      <td>0.982948</td>\n",
       "      <td>1.253734</td>\n",
       "      <td>3.490416</td>\n",
       "      <td>-1.524521</td>\n",
       "      <td>True</td>\n",
       "    </tr>\n",
       "    <tr>\n",
       "      <th>26</th>\n",
       "      <td>27</td>\n",
       "      <td>0.037037</td>\n",
       "      <td>0.982948</td>\n",
       "      <td>1.253734</td>\n",
       "      <td>3.490416</td>\n",
       "      <td>-1.524521</td>\n",
       "      <td>True</td>\n",
       "    </tr>\n",
       "    <tr>\n",
       "      <th>27</th>\n",
       "      <td>28</td>\n",
       "      <td>0.035714</td>\n",
       "      <td>0.982948</td>\n",
       "      <td>1.253734</td>\n",
       "      <td>3.490416</td>\n",
       "      <td>-1.524521</td>\n",
       "      <td>True</td>\n",
       "    </tr>\n",
       "    <tr>\n",
       "      <th>28</th>\n",
       "      <td>29</td>\n",
       "      <td>0.034483</td>\n",
       "      <td>0.982948</td>\n",
       "      <td>1.253734</td>\n",
       "      <td>3.490416</td>\n",
       "      <td>-1.524521</td>\n",
       "      <td>True</td>\n",
       "    </tr>\n",
       "    <tr>\n",
       "      <th>29</th>\n",
       "      <td>30</td>\n",
       "      <td>0.033333</td>\n",
       "      <td>0.982948</td>\n",
       "      <td>1.253734</td>\n",
       "      <td>3.490416</td>\n",
       "      <td>-1.524521</td>\n",
       "      <td>True</td>\n",
       "    </tr>\n",
       "    <tr>\n",
       "      <th>30</th>\n",
       "      <td>31</td>\n",
       "      <td>0.032258</td>\n",
       "      <td>1.969903</td>\n",
       "      <td>2.232827</td>\n",
       "      <td>6.435557</td>\n",
       "      <td>-2.495752</td>\n",
       "      <td>True</td>\n",
       "    </tr>\n",
       "    <tr>\n",
       "      <th>31</th>\n",
       "      <td>32</td>\n",
       "      <td>0.031250</td>\n",
       "      <td>1.969903</td>\n",
       "      <td>2.232827</td>\n",
       "      <td>6.435557</td>\n",
       "      <td>-2.495752</td>\n",
       "      <td>True</td>\n",
       "    </tr>\n",
       "    <tr>\n",
       "      <th>32</th>\n",
       "      <td>33</td>\n",
       "      <td>0.030303</td>\n",
       "      <td>1.969903</td>\n",
       "      <td>2.232827</td>\n",
       "      <td>6.435557</td>\n",
       "      <td>-2.495752</td>\n",
       "      <td>True</td>\n",
       "    </tr>\n",
       "    <tr>\n",
       "      <th>33</th>\n",
       "      <td>34</td>\n",
       "      <td>0.029412</td>\n",
       "      <td>1.969903</td>\n",
       "      <td>2.232827</td>\n",
       "      <td>6.435557</td>\n",
       "      <td>-2.495752</td>\n",
       "      <td>True</td>\n",
       "    </tr>\n",
       "    <tr>\n",
       "      <th>34</th>\n",
       "      <td>35</td>\n",
       "      <td>0.028571</td>\n",
       "      <td>1.969903</td>\n",
       "      <td>2.232827</td>\n",
       "      <td>6.435557</td>\n",
       "      <td>-2.495752</td>\n",
       "      <td>True</td>\n",
       "    </tr>\n",
       "    <tr>\n",
       "      <th>35</th>\n",
       "      <td>36</td>\n",
       "      <td>0.027778</td>\n",
       "      <td>1.969903</td>\n",
       "      <td>2.232827</td>\n",
       "      <td>6.435557</td>\n",
       "      <td>-2.495752</td>\n",
       "      <td>True</td>\n",
       "    </tr>\n",
       "    <tr>\n",
       "      <th>36</th>\n",
       "      <td>37</td>\n",
       "      <td>0.027027</td>\n",
       "      <td>3.063552</td>\n",
       "      <td>3.007887</td>\n",
       "      <td>9.079326</td>\n",
       "      <td>-2.952222</td>\n",
       "      <td>True</td>\n",
       "    </tr>\n",
       "    <tr>\n",
       "      <th>37</th>\n",
       "      <td>38</td>\n",
       "      <td>0.026316</td>\n",
       "      <td>3.063552</td>\n",
       "      <td>3.007887</td>\n",
       "      <td>9.079326</td>\n",
       "      <td>-2.952222</td>\n",
       "      <td>True</td>\n",
       "    </tr>\n",
       "    <tr>\n",
       "      <th>38</th>\n",
       "      <td>39</td>\n",
       "      <td>0.025641</td>\n",
       "      <td>3.063552</td>\n",
       "      <td>3.007887</td>\n",
       "      <td>9.079326</td>\n",
       "      <td>-2.952222</td>\n",
       "      <td>True</td>\n",
       "    </tr>\n",
       "  </tbody>\n",
       "</table>\n",
       "</div>"
      ],
      "text/plain": [
       "     N  expected  calculated  calculated_std  upper limit  lower limit  check\n",
       "0    1  1.000000    1.000000        1.305005     3.610010    -1.610010   True\n",
       "1    2  0.500000    0.807268        1.250178     3.307624    -1.693088   True\n",
       "2    3  0.333333    0.560725        0.731105     2.022935    -0.901485   True\n",
       "3    4  0.250000    0.486326        0.627925     1.742177    -0.769525   True\n",
       "4    5  0.200000    0.459994        0.613439     1.686872    -0.766883   True\n",
       "5    6  0.166667    0.406248        0.549795     1.505837    -0.693342   True\n",
       "6    7  0.142857    0.406248        0.549795     1.505837    -0.693342   True\n",
       "7    8  0.125000    0.264719        0.484817     1.234352    -0.704914   True\n",
       "8    9  0.111111    0.504004        0.885104     2.274212    -1.266203   True\n",
       "9   10  0.100000    0.504004        0.885104     2.274212    -1.266203   True\n",
       "10  11  0.090909    0.715606        1.100449     2.916503    -1.485291   True\n",
       "11  12  0.083333    0.715606        1.100449     2.916503    -1.485291   True\n",
       "12  13  0.076923    1.016127        1.568367     4.152860    -2.120606   True\n",
       "13  14  0.071429    1.016127        1.568367     4.152860    -2.120606   True\n",
       "14  15  0.066667    1.094953        1.630797     4.356548    -2.166642   True\n",
       "15  16  0.062500    1.094953        1.630797     4.356548    -2.166642   True\n",
       "16  17  0.058824    1.094953        1.630797     4.356548    -2.166642   True\n",
       "17  18  0.055556    1.115422        1.626542     4.368506    -2.137661   True\n",
       "18  19  0.052632    1.115422        1.626542     4.368506    -2.137661   True\n",
       "19  20  0.050000    1.115422        1.626542     4.368506    -2.137661   True\n",
       "20  21  0.047619    1.115422        1.626542     4.368506    -2.137661   True\n",
       "21  22  0.045455    1.041171        1.532239     4.105648    -2.023306   True\n",
       "22  23  0.043478    1.041171        1.532239     4.105648    -2.023306   True\n",
       "23  24  0.041667    1.041171        1.532239     4.105648    -2.023306   True\n",
       "24  25  0.040000    1.041171        1.532239     4.105648    -2.023306   True\n",
       "25  26  0.038462    0.982948        1.253734     3.490416    -1.524521   True\n",
       "26  27  0.037037    0.982948        1.253734     3.490416    -1.524521   True\n",
       "27  28  0.035714    0.982948        1.253734     3.490416    -1.524521   True\n",
       "28  29  0.034483    0.982948        1.253734     3.490416    -1.524521   True\n",
       "29  30  0.033333    0.982948        1.253734     3.490416    -1.524521   True\n",
       "30  31  0.032258    1.969903        2.232827     6.435557    -2.495752   True\n",
       "31  32  0.031250    1.969903        2.232827     6.435557    -2.495752   True\n",
       "32  33  0.030303    1.969903        2.232827     6.435557    -2.495752   True\n",
       "33  34  0.029412    1.969903        2.232827     6.435557    -2.495752   True\n",
       "34  35  0.028571    1.969903        2.232827     6.435557    -2.495752   True\n",
       "35  36  0.027778    1.969903        2.232827     6.435557    -2.495752   True\n",
       "36  37  0.027027    3.063552        3.007887     9.079326    -2.952222   True\n",
       "37  38  0.026316    3.063552        3.007887     9.079326    -2.952222   True\n",
       "38  39  0.025641    3.063552        3.007887     9.079326    -2.952222   True"
      ]
     },
     "execution_count": 49,
     "metadata": {
      "tags": []
     },
     "output_type": "execute_result"
    }
   ],
   "source": [
    "N = np.arange(1, 40)\n",
    "df_dv = vratios(m31, m31_size, N, err='dv')\n",
    "df_dv"
   ]
  },
  {
   "cell_type": "markdown",
   "metadata": {
    "ExecuteTime": {
     "end_time": "2019-08-02T00:36:41.637045Z",
     "start_time": "2019-08-02T00:36:41.634825Z"
    },
    "colab_type": "text",
    "id": "6me5k4c1OdDY",
    "run_control": {
     "frozen": false,
     "read_only": false
    }
   },
   "source": [
    "### Discussion:  \n",
    "We first found the radius at least as large as needed and the velocity at that radius. We also calculated the ratio of radii and the ratio of velocities from the center with uncertainties. We can see that the ratio is consistent within the uncertainties with Newton's law."
   ]
  },
  {
   "cell_type": "markdown",
   "metadata": {
    "colab_type": "text",
    "id": "QIHRn8UlOdDZ",
    "run_control": {
     "frozen": false,
     "read_only": false
    }
   },
   "source": [
    "## do the same for the Milky Way. If your functions were create properly you should be able to reuse them seamlessly"
   ]
  },
  {
   "cell_type": "code",
   "execution_count": 0,
   "metadata": {
    "colab": {},
    "colab_type": "code",
    "id": "NVp9cJzv-Dic",
    "run_control": {
     "frozen": false,
     "read_only": false
    }
   },
   "outputs": [],
   "source": [
    "#to import data\n",
    "milkyway=pd.read_csv(\"https://raw.githubusercontent.com/narayan-paudel/DSPS_EPAUDEL/master/HW4_ePaudel/mw.csv\",comment='#',delim_whitespace=False,names=[\"r\",\"v\",\"dv\",\"err\"], skiprows=2)"
   ]
  },
  {
   "cell_type": "code",
   "execution_count": 39,
   "metadata": {
    "colab": {
     "base_uri": "https://localhost:8080/",
     "height": 204
    },
    "colab_type": "code",
    "id": "fXKO1xjaJ_uj",
    "outputId": "a1180101-8599-4662-c426-0a257a53c8dd"
   },
   "outputs": [
    {
     "data": {
      "text/html": [
       "<div>\n",
       "<style scoped>\n",
       "    .dataframe tbody tr th:only-of-type {\n",
       "        vertical-align: middle;\n",
       "    }\n",
       "\n",
       "    .dataframe tbody tr th {\n",
       "        vertical-align: top;\n",
       "    }\n",
       "\n",
       "    .dataframe thead th {\n",
       "        text-align: right;\n",
       "    }\n",
       "</style>\n",
       "<table border=\"1\" class=\"dataframe\">\n",
       "  <thead>\n",
       "    <tr style=\"text-align: right;\">\n",
       "      <th></th>\n",
       "      <th>r</th>\n",
       "      <th>v</th>\n",
       "      <th>dv</th>\n",
       "      <th>err</th>\n",
       "    </tr>\n",
       "  </thead>\n",
       "  <tbody>\n",
       "    <tr>\n",
       "      <th>0</th>\n",
       "      <td>0.010</td>\n",
       "      <td>119.061</td>\n",
       "      <td>41.832</td>\n",
       "      <td>32.714</td>\n",
       "    </tr>\n",
       "    <tr>\n",
       "      <th>1</th>\n",
       "      <td>0.012</td>\n",
       "      <td>115.268</td>\n",
       "      <td>35.199</td>\n",
       "      <td>17.100</td>\n",
       "    </tr>\n",
       "    <tr>\n",
       "      <th>2</th>\n",
       "      <td>0.014</td>\n",
       "      <td>117.392</td>\n",
       "      <td>35.152</td>\n",
       "      <td>14.429</td>\n",
       "    </tr>\n",
       "    <tr>\n",
       "      <th>3</th>\n",
       "      <td>0.017</td>\n",
       "      <td>118.475</td>\n",
       "      <td>35.252</td>\n",
       "      <td>14.870</td>\n",
       "    </tr>\n",
       "    <tr>\n",
       "      <th>4</th>\n",
       "      <td>0.021</td>\n",
       "      <td>110.386</td>\n",
       "      <td>33.817</td>\n",
       "      <td>14.427</td>\n",
       "    </tr>\n",
       "  </tbody>\n",
       "</table>\n",
       "</div>"
      ],
      "text/plain": [
       "       r        v      dv     err\n",
       "0  0.010  119.061  41.832  32.714\n",
       "1  0.012  115.268  35.199  17.100\n",
       "2  0.014  117.392  35.152  14.429\n",
       "3  0.017  118.475  35.252  14.870\n",
       "4  0.021  110.386  33.817  14.427"
      ]
     },
     "execution_count": 39,
     "metadata": {
      "tags": []
     },
     "output_type": "execute_result"
    }
   ],
   "source": [
    "milkyway.head()"
   ]
  },
  {
   "cell_type": "code",
   "execution_count": 40,
   "metadata": {
    "colab": {
     "base_uri": "https://localhost:8080/",
     "height": 297
    },
    "colab_type": "code",
    "id": "3ajPCI3OJ__K",
    "outputId": "717aa33b-4528-4b1c-ad4e-6e4dfb6a78e9"
   },
   "outputs": [
    {
     "data": {
      "text/html": [
       "<div>\n",
       "<style scoped>\n",
       "    .dataframe tbody tr th:only-of-type {\n",
       "        vertical-align: middle;\n",
       "    }\n",
       "\n",
       "    .dataframe tbody tr th {\n",
       "        vertical-align: top;\n",
       "    }\n",
       "\n",
       "    .dataframe thead th {\n",
       "        text-align: right;\n",
       "    }\n",
       "</style>\n",
       "<table border=\"1\" class=\"dataframe\">\n",
       "  <thead>\n",
       "    <tr style=\"text-align: right;\">\n",
       "      <th></th>\n",
       "      <th>r</th>\n",
       "      <th>v</th>\n",
       "      <th>dv</th>\n",
       "      <th>err</th>\n",
       "    </tr>\n",
       "  </thead>\n",
       "  <tbody>\n",
       "    <tr>\n",
       "      <th>count</th>\n",
       "      <td>64.000000</td>\n",
       "      <td>64.000000</td>\n",
       "      <td>64.000000</td>\n",
       "      <td>64.000000</td>\n",
       "    </tr>\n",
       "    <tr>\n",
       "      <th>mean</th>\n",
       "      <td>142.281500</td>\n",
       "      <td>187.101219</td>\n",
       "      <td>48.249062</td>\n",
       "      <td>19.003297</td>\n",
       "    </tr>\n",
       "    <tr>\n",
       "      <th>std</th>\n",
       "      <td>348.144773</td>\n",
       "      <td>52.161901</td>\n",
       "      <td>41.255286</td>\n",
       "      <td>23.513466</td>\n",
       "    </tr>\n",
       "    <tr>\n",
       "      <th>min</th>\n",
       "      <td>0.010000</td>\n",
       "      <td>93.042000</td>\n",
       "      <td>3.370000</td>\n",
       "      <td>0.868000</td>\n",
       "    </tr>\n",
       "    <tr>\n",
       "      <th>25%</th>\n",
       "      <td>0.177250</td>\n",
       "      <td>138.676250</td>\n",
       "      <td>12.585500</td>\n",
       "      <td>2.709750</td>\n",
       "    </tr>\n",
       "    <tr>\n",
       "      <th>50%</th>\n",
       "      <td>3.133500</td>\n",
       "      <td>204.576000</td>\n",
       "      <td>35.288500</td>\n",
       "      <td>13.923000</td>\n",
       "    </tr>\n",
       "    <tr>\n",
       "      <th>75%</th>\n",
       "      <td>55.298250</td>\n",
       "      <td>235.920500</td>\n",
       "      <td>68.412750</td>\n",
       "      <td>24.791250</td>\n",
       "    </tr>\n",
       "    <tr>\n",
       "      <th>max</th>\n",
       "      <td>1682.532000</td>\n",
       "      <td>255.300000</td>\n",
       "      <td>165.096000</td>\n",
       "      <td>110.484000</td>\n",
       "    </tr>\n",
       "  </tbody>\n",
       "</table>\n",
       "</div>"
      ],
      "text/plain": [
       "                 r           v          dv         err\n",
       "count    64.000000   64.000000   64.000000   64.000000\n",
       "mean    142.281500  187.101219   48.249062   19.003297\n",
       "std     348.144773   52.161901   41.255286   23.513466\n",
       "min       0.010000   93.042000    3.370000    0.868000\n",
       "25%       0.177250  138.676250   12.585500    2.709750\n",
       "50%       3.133500  204.576000   35.288500   13.923000\n",
       "75%      55.298250  235.920500   68.412750   24.791250\n",
       "max    1682.532000  255.300000  165.096000  110.484000"
      ]
     },
     "execution_count": 40,
     "metadata": {
      "tags": []
     },
     "output_type": "execute_result"
    }
   ],
   "source": [
    "milkyway.describe()"
   ]
  },
  {
   "cell_type": "code",
   "execution_count": 0,
   "metadata": {
    "colab": {},
    "colab_type": "code",
    "id": "BV9NXuNoKAlq"
   },
   "outputs": [],
   "source": [
    "#information on Milky way\n",
    "mw_size = 46 #kpc"
   ]
  },
  {
   "cell_type": "code",
   "execution_count": 66,
   "metadata": {
    "colab": {
     "base_uri": "https://localhost:8080/",
     "height": 102
    },
    "colab_type": "code",
    "id": "S7uBX5_8KAyu",
    "outputId": "54d2e347-0195-4e53-b437-b427bb0f6c78"
   },
   "outputs": [
    {
     "data": {
      "text/plain": [
       "r       52.665\n",
       "v      175.414\n",
       "dv      56.813\n",
       "err     20.165\n",
       "Name: 47, dtype: float64"
      ]
     },
     "execution_count": 66,
     "metadata": {
      "tags": []
     },
     "output_type": "execute_result"
    }
   ],
   "source": [
    "#to get smallest radius in data set that is N times the size of visible galaxy\n",
    "gal_mw = getradii(milkyway, mw_size, 1)\n",
    "gal_mw"
   ]
  },
  {
   "cell_type": "code",
   "execution_count": 51,
   "metadata": {
    "colab": {
     "base_uri": "https://localhost:8080/",
     "height": 337
    },
    "colab_type": "code",
    "id": "_n4LOvMuKA_p",
    "outputId": "d52de574-68a8-4718-c1b8-9fcf5f3c1df8"
   },
   "outputs": [
    {
     "data": {
      "image/png": "[encoded data removed]",
      "text/plain": [
       "<Figure size 576x360 with 1 Axes>"
      ]
     },
     "metadata": {
      "tags": []
     },
     "output_type": "display_data"
    }
   ],
   "source": [
    "#to plot rotational curve of Milky way galaxy with error bars\n",
    "plotGal(milkyway, rds=mw_size)\n"
   ]
  },
  {
   "cell_type": "code",
   "execution_count": 0,
   "metadata": {
    "colab": {},
    "colab_type": "code",
    "id": "s3O-39-YYSaH"
   },
   "outputs": [],
   "source": [
    "def vratios(gal, rds, N=[1, 2], err='dv'):\n",
    "    # calculate ratio of velocities\n",
    "    gal_1 = getradii(gal, rds, 1)\n",
    "    expected = []\n",
    "    calculated = []\n",
    "    std = []\n",
    "    for n in N:\n",
    "        expected.append(1.0/n)\n",
    "        gal_n = getradii(gal, rds, n)\n",
    "        calculated.append(gal_n.v**2 / gal_1.v**2)\n",
    "        std.append(gal_n.v**2 / gal_1.v**2 * np.sqrt((2 * gal_n[err] /gal_n.v)**2 + (2 * gal_1[err] / gal_1.v)**2))\n",
    "    \n",
    "    df = pd.DataFrame({'N':N, 'expected':expected, 'calculated':calculated, 'calculated_std':std})  \n",
    "    df['upper limit'] = df.calculated + 2*df.calculated_std\n",
    "    df['lower limit'] = df.calculated - 2*df.calculated_std\n",
    "    df['check'] = (df.expected<=df['upper limit']) & (df.expected>=df['lower limit'])\n",
    "\n",
    "\n",
    "    return df"
   ]
  },
  {
   "cell_type": "code",
   "execution_count": 64,
   "metadata": {
    "colab": {
     "base_uri": "https://localhost:8080/",
     "height": 1000
    },
    "colab_type": "code",
    "id": "hfC3BXNwKBMo",
    "outputId": "21b8465f-24e5-4972-c1b9-16152446ee9e"
   },
   "outputs": [
    {
     "data": {
      "text/html": [
       "<div>\n",
       "<style scoped>\n",
       "    .dataframe tbody tr th:only-of-type {\n",
       "        vertical-align: middle;\n",
       "    }\n",
       "\n",
       "    .dataframe tbody tr th {\n",
       "        vertical-align: top;\n",
       "    }\n",
       "\n",
       "    .dataframe thead th {\n",
       "        text-align: right;\n",
       "    }\n",
       "</style>\n",
       "<table border=\"1\" class=\"dataframe\">\n",
       "  <thead>\n",
       "    <tr style=\"text-align: right;\">\n",
       "      <th></th>\n",
       "      <th>N</th>\n",
       "      <th>expected</th>\n",
       "      <th>calculated</th>\n",
       "      <th>calculated_std</th>\n",
       "      <th>upper limit</th>\n",
       "      <th>lower limit</th>\n",
       "      <th>check</th>\n",
       "    </tr>\n",
       "  </thead>\n",
       "  <tbody>\n",
       "    <tr>\n",
       "      <th>0</th>\n",
       "      <td>1</td>\n",
       "      <td>1.000000</td>\n",
       "      <td>1.000000</td>\n",
       "      <td>0.916070</td>\n",
       "      <td>2.832139</td>\n",
       "      <td>-0.832139</td>\n",
       "      <td>True</td>\n",
       "    </tr>\n",
       "    <tr>\n",
       "      <th>1</th>\n",
       "      <td>2</td>\n",
       "      <td>0.500000</td>\n",
       "      <td>0.785271</td>\n",
       "      <td>0.930592</td>\n",
       "      <td>2.646455</td>\n",
       "      <td>-1.075914</td>\n",
       "      <td>True</td>\n",
       "    </tr>\n",
       "    <tr>\n",
       "      <th>2</th>\n",
       "      <td>3</td>\n",
       "      <td>0.333333</td>\n",
       "      <td>0.366608</td>\n",
       "      <td>0.729553</td>\n",
       "      <td>1.825714</td>\n",
       "      <td>-1.092498</td>\n",
       "      <td>True</td>\n",
       "    </tr>\n",
       "    <tr>\n",
       "      <th>3</th>\n",
       "      <td>4</td>\n",
       "      <td>0.250000</td>\n",
       "      <td>0.580405</td>\n",
       "      <td>1.482526</td>\n",
       "      <td>3.545457</td>\n",
       "      <td>-2.384646</td>\n",
       "      <td>True</td>\n",
       "    </tr>\n",
       "    <tr>\n",
       "      <th>4</th>\n",
       "      <td>5</td>\n",
       "      <td>0.200000</td>\n",
       "      <td>0.281339</td>\n",
       "      <td>0.950151</td>\n",
       "      <td>2.181641</td>\n",
       "      <td>-1.618963</td>\n",
       "      <td>True</td>\n",
       "    </tr>\n",
       "    <tr>\n",
       "      <th>5</th>\n",
       "      <td>6</td>\n",
       "      <td>0.166667</td>\n",
       "      <td>0.281339</td>\n",
       "      <td>0.950151</td>\n",
       "      <td>2.181641</td>\n",
       "      <td>-1.618963</td>\n",
       "      <td>True</td>\n",
       "    </tr>\n",
       "    <tr>\n",
       "      <th>6</th>\n",
       "      <td>7</td>\n",
       "      <td>0.142857</td>\n",
       "      <td>0.281339</td>\n",
       "      <td>0.950151</td>\n",
       "      <td>2.181641</td>\n",
       "      <td>-1.618963</td>\n",
       "      <td>True</td>\n",
       "    </tr>\n",
       "    <tr>\n",
       "      <th>7</th>\n",
       "      <td>8</td>\n",
       "      <td>0.125000</td>\n",
       "      <td>0.281339</td>\n",
       "      <td>0.950151</td>\n",
       "      <td>2.181641</td>\n",
       "      <td>-1.618963</td>\n",
       "      <td>True</td>\n",
       "    </tr>\n",
       "    <tr>\n",
       "      <th>8</th>\n",
       "      <td>9</td>\n",
       "      <td>0.111111</td>\n",
       "      <td>0.281339</td>\n",
       "      <td>0.950151</td>\n",
       "      <td>2.181641</td>\n",
       "      <td>-1.618963</td>\n",
       "      <td>True</td>\n",
       "    </tr>\n",
       "    <tr>\n",
       "      <th>9</th>\n",
       "      <td>10</td>\n",
       "      <td>0.100000</td>\n",
       "      <td>0.281339</td>\n",
       "      <td>0.950151</td>\n",
       "      <td>2.181641</td>\n",
       "      <td>-1.618963</td>\n",
       "      <td>True</td>\n",
       "    </tr>\n",
       "    <tr>\n",
       "      <th>10</th>\n",
       "      <td>11</td>\n",
       "      <td>0.090909</td>\n",
       "      <td>0.568162</td>\n",
       "      <td>1.134088</td>\n",
       "      <td>2.836339</td>\n",
       "      <td>-1.700014</td>\n",
       "      <td>True</td>\n",
       "    </tr>\n",
       "    <tr>\n",
       "      <th>11</th>\n",
       "      <td>12</td>\n",
       "      <td>0.083333</td>\n",
       "      <td>0.568162</td>\n",
       "      <td>1.134088</td>\n",
       "      <td>2.836339</td>\n",
       "      <td>-1.700014</td>\n",
       "      <td>True</td>\n",
       "    </tr>\n",
       "    <tr>\n",
       "      <th>12</th>\n",
       "      <td>13</td>\n",
       "      <td>0.076923</td>\n",
       "      <td>0.818100</td>\n",
       "      <td>1.202739</td>\n",
       "      <td>3.223577</td>\n",
       "      <td>-1.587377</td>\n",
       "      <td>True</td>\n",
       "    </tr>\n",
       "    <tr>\n",
       "      <th>13</th>\n",
       "      <td>14</td>\n",
       "      <td>0.071429</td>\n",
       "      <td>0.818100</td>\n",
       "      <td>1.202739</td>\n",
       "      <td>3.223577</td>\n",
       "      <td>-1.587377</td>\n",
       "      <td>True</td>\n",
       "    </tr>\n",
       "    <tr>\n",
       "      <th>14</th>\n",
       "      <td>15</td>\n",
       "      <td>0.066667</td>\n",
       "      <td>0.839283</td>\n",
       "      <td>1.179828</td>\n",
       "      <td>3.198939</td>\n",
       "      <td>-1.520373</td>\n",
       "      <td>True</td>\n",
       "    </tr>\n",
       "    <tr>\n",
       "      <th>15</th>\n",
       "      <td>16</td>\n",
       "      <td>0.062500</td>\n",
       "      <td>0.839283</td>\n",
       "      <td>1.179828</td>\n",
       "      <td>3.198939</td>\n",
       "      <td>-1.520373</td>\n",
       "      <td>True</td>\n",
       "    </tr>\n",
       "    <tr>\n",
       "      <th>16</th>\n",
       "      <td>17</td>\n",
       "      <td>0.058824</td>\n",
       "      <td>0.839283</td>\n",
       "      <td>1.179828</td>\n",
       "      <td>3.198939</td>\n",
       "      <td>-1.520373</td>\n",
       "      <td>True</td>\n",
       "    </tr>\n",
       "    <tr>\n",
       "      <th>17</th>\n",
       "      <td>18</td>\n",
       "      <td>0.055556</td>\n",
       "      <td>0.928669</td>\n",
       "      <td>1.364583</td>\n",
       "      <td>3.657834</td>\n",
       "      <td>-1.800497</td>\n",
       "      <td>True</td>\n",
       "    </tr>\n",
       "    <tr>\n",
       "      <th>18</th>\n",
       "      <td>19</td>\n",
       "      <td>0.052632</td>\n",
       "      <td>0.928669</td>\n",
       "      <td>1.364583</td>\n",
       "      <td>3.657834</td>\n",
       "      <td>-1.800497</td>\n",
       "      <td>True</td>\n",
       "    </tr>\n",
       "    <tr>\n",
       "      <th>19</th>\n",
       "      <td>20</td>\n",
       "      <td>0.050000</td>\n",
       "      <td>0.928669</td>\n",
       "      <td>1.364583</td>\n",
       "      <td>3.657834</td>\n",
       "      <td>-1.800497</td>\n",
       "      <td>True</td>\n",
       "    </tr>\n",
       "    <tr>\n",
       "      <th>20</th>\n",
       "      <td>21</td>\n",
       "      <td>0.047619</td>\n",
       "      <td>0.928669</td>\n",
       "      <td>1.364583</td>\n",
       "      <td>3.657834</td>\n",
       "      <td>-1.800497</td>\n",
       "      <td>True</td>\n",
       "    </tr>\n",
       "    <tr>\n",
       "      <th>21</th>\n",
       "      <td>22</td>\n",
       "      <td>0.045455</td>\n",
       "      <td>1.340035</td>\n",
       "      <td>1.737237</td>\n",
       "      <td>4.814509</td>\n",
       "      <td>-2.134440</td>\n",
       "      <td>True</td>\n",
       "    </tr>\n",
       "    <tr>\n",
       "      <th>22</th>\n",
       "      <td>23</td>\n",
       "      <td>0.043478</td>\n",
       "      <td>1.340035</td>\n",
       "      <td>1.737237</td>\n",
       "      <td>4.814509</td>\n",
       "      <td>-2.134440</td>\n",
       "      <td>True</td>\n",
       "    </tr>\n",
       "    <tr>\n",
       "      <th>23</th>\n",
       "      <td>24</td>\n",
       "      <td>0.041667</td>\n",
       "      <td>1.340035</td>\n",
       "      <td>1.737237</td>\n",
       "      <td>4.814509</td>\n",
       "      <td>-2.134440</td>\n",
       "      <td>True</td>\n",
       "    </tr>\n",
       "    <tr>\n",
       "      <th>24</th>\n",
       "      <td>25</td>\n",
       "      <td>0.040000</td>\n",
       "      <td>1.340035</td>\n",
       "      <td>1.737237</td>\n",
       "      <td>4.814509</td>\n",
       "      <td>-2.134440</td>\n",
       "      <td>True</td>\n",
       "    </tr>\n",
       "    <tr>\n",
       "      <th>25</th>\n",
       "      <td>26</td>\n",
       "      <td>0.038462</td>\n",
       "      <td>1.664673</td>\n",
       "      <td>1.882656</td>\n",
       "      <td>5.429985</td>\n",
       "      <td>-2.100639</td>\n",
       "      <td>True</td>\n",
       "    </tr>\n",
       "    <tr>\n",
       "      <th>26</th>\n",
       "      <td>27</td>\n",
       "      <td>0.037037</td>\n",
       "      <td>1.664673</td>\n",
       "      <td>1.882656</td>\n",
       "      <td>5.429985</td>\n",
       "      <td>-2.100639</td>\n",
       "      <td>True</td>\n",
       "    </tr>\n",
       "    <tr>\n",
       "      <th>27</th>\n",
       "      <td>28</td>\n",
       "      <td>0.035714</td>\n",
       "      <td>1.664673</td>\n",
       "      <td>1.882656</td>\n",
       "      <td>5.429985</td>\n",
       "      <td>-2.100639</td>\n",
       "      <td>True</td>\n",
       "    </tr>\n",
       "    <tr>\n",
       "      <th>28</th>\n",
       "      <td>29</td>\n",
       "      <td>0.034483</td>\n",
       "      <td>1.664673</td>\n",
       "      <td>1.882656</td>\n",
       "      <td>5.429985</td>\n",
       "      <td>-2.100639</td>\n",
       "      <td>True</td>\n",
       "    </tr>\n",
       "    <tr>\n",
       "      <th>29</th>\n",
       "      <td>30</td>\n",
       "      <td>0.033333</td>\n",
       "      <td>1.664673</td>\n",
       "      <td>1.882656</td>\n",
       "      <td>5.429985</td>\n",
       "      <td>-2.100639</td>\n",
       "      <td>True</td>\n",
       "    </tr>\n",
       "    <tr>\n",
       "      <th>30</th>\n",
       "      <td>31</td>\n",
       "      <td>0.032258</td>\n",
       "      <td>1.804200</td>\n",
       "      <td>1.936599</td>\n",
       "      <td>5.677398</td>\n",
       "      <td>-2.068998</td>\n",
       "      <td>True</td>\n",
       "    </tr>\n",
       "    <tr>\n",
       "      <th>31</th>\n",
       "      <td>32</td>\n",
       "      <td>0.031250</td>\n",
       "      <td>1.804200</td>\n",
       "      <td>1.936599</td>\n",
       "      <td>5.677398</td>\n",
       "      <td>-2.068998</td>\n",
       "      <td>True</td>\n",
       "    </tr>\n",
       "    <tr>\n",
       "      <th>32</th>\n",
       "      <td>33</td>\n",
       "      <td>0.030303</td>\n",
       "      <td>1.804200</td>\n",
       "      <td>1.936599</td>\n",
       "      <td>5.677398</td>\n",
       "      <td>-2.068998</td>\n",
       "      <td>True</td>\n",
       "    </tr>\n",
       "    <tr>\n",
       "      <th>33</th>\n",
       "      <td>34</td>\n",
       "      <td>0.029412</td>\n",
       "      <td>1.804200</td>\n",
       "      <td>1.936599</td>\n",
       "      <td>5.677398</td>\n",
       "      <td>-2.068998</td>\n",
       "      <td>True</td>\n",
       "    </tr>\n",
       "    <tr>\n",
       "      <th>34</th>\n",
       "      <td>35</td>\n",
       "      <td>0.028571</td>\n",
       "      <td>1.804200</td>\n",
       "      <td>1.936599</td>\n",
       "      <td>5.677398</td>\n",
       "      <td>-2.068998</td>\n",
       "      <td>True</td>\n",
       "    </tr>\n",
       "    <tr>\n",
       "      <th>35</th>\n",
       "      <td>36</td>\n",
       "      <td>0.027778</td>\n",
       "      <td>1.804200</td>\n",
       "      <td>1.936599</td>\n",
       "      <td>5.677398</td>\n",
       "      <td>-2.068998</td>\n",
       "      <td>True</td>\n",
       "    </tr>\n",
       "  </tbody>\n",
       "</table>\n",
       "</div>"
      ],
      "text/plain": [
       "     N  expected  calculated  calculated_std  upper limit  lower limit  check\n",
       "0    1  1.000000    1.000000        0.916070     2.832139    -0.832139   True\n",
       "1    2  0.500000    0.785271        0.930592     2.646455    -1.075914   True\n",
       "2    3  0.333333    0.366608        0.729553     1.825714    -1.092498   True\n",
       "3    4  0.250000    0.580405        1.482526     3.545457    -2.384646   True\n",
       "4    5  0.200000    0.281339        0.950151     2.181641    -1.618963   True\n",
       "5    6  0.166667    0.281339        0.950151     2.181641    -1.618963   True\n",
       "6    7  0.142857    0.281339        0.950151     2.181641    -1.618963   True\n",
       "7    8  0.125000    0.281339        0.950151     2.181641    -1.618963   True\n",
       "8    9  0.111111    0.281339        0.950151     2.181641    -1.618963   True\n",
       "9   10  0.100000    0.281339        0.950151     2.181641    -1.618963   True\n",
       "10  11  0.090909    0.568162        1.134088     2.836339    -1.700014   True\n",
       "11  12  0.083333    0.568162        1.134088     2.836339    -1.700014   True\n",
       "12  13  0.076923    0.818100        1.202739     3.223577    -1.587377   True\n",
       "13  14  0.071429    0.818100        1.202739     3.223577    -1.587377   True\n",
       "14  15  0.066667    0.839283        1.179828     3.198939    -1.520373   True\n",
       "15  16  0.062500    0.839283        1.179828     3.198939    -1.520373   True\n",
       "16  17  0.058824    0.839283        1.179828     3.198939    -1.520373   True\n",
       "17  18  0.055556    0.928669        1.364583     3.657834    -1.800497   True\n",
       "18  19  0.052632    0.928669        1.364583     3.657834    -1.800497   True\n",
       "19  20  0.050000    0.928669        1.364583     3.657834    -1.800497   True\n",
       "20  21  0.047619    0.928669        1.364583     3.657834    -1.800497   True\n",
       "21  22  0.045455    1.340035        1.737237     4.814509    -2.134440   True\n",
       "22  23  0.043478    1.340035        1.737237     4.814509    -2.134440   True\n",
       "23  24  0.041667    1.340035        1.737237     4.814509    -2.134440   True\n",
       "24  25  0.040000    1.340035        1.737237     4.814509    -2.134440   True\n",
       "25  26  0.038462    1.664673        1.882656     5.429985    -2.100639   True\n",
       "26  27  0.037037    1.664673        1.882656     5.429985    -2.100639   True\n",
       "27  28  0.035714    1.664673        1.882656     5.429985    -2.100639   True\n",
       "28  29  0.034483    1.664673        1.882656     5.429985    -2.100639   True\n",
       "29  30  0.033333    1.664673        1.882656     5.429985    -2.100639   True\n",
       "30  31  0.032258    1.804200        1.936599     5.677398    -2.068998   True\n",
       "31  32  0.031250    1.804200        1.936599     5.677398    -2.068998   True\n",
       "32  33  0.030303    1.804200        1.936599     5.677398    -2.068998   True\n",
       "33  34  0.029412    1.804200        1.936599     5.677398    -2.068998   True\n",
       "34  35  0.028571    1.804200        1.936599     5.677398    -2.068998   True\n",
       "35  36  0.027778    1.804200        1.936599     5.677398    -2.068998   True"
      ]
     },
     "execution_count": 64,
     "metadata": {
      "tags": []
     },
     "output_type": "execute_result"
    }
   ],
   "source": [
    "N = np.arange(1, 37)\n",
    "mw_dv = vratios(milkyway, mw_size, N, err='dv')\n",
    "mw_dv"
   ]
  }
 ],
 "metadata": {
  "colab": {
   "collapsed_sections": [
    "6me5k4c1OdDY"
   ],
   "name": "GalrotCurvemy.ipynb",
   "provenance": []
  },
  "kernelspec": {
   "display_name": "Python 3",
   "language": "python",
   "name": "python3"
  },
  "language_info": {
   "codemirror_mode": {
    "name": "ipython",
    "version": 3
   },
   "file_extension": ".py",
   "mimetype": "text/x-python",
   "name": "python",
   "nbconvert_exporter": "python",
   "pygments_lexer": "ipython3",
   "version": "3.7.4"
  },
  "nbTranslate": {
   "displayLangs": [
    "*"
   ],
   "hotkey": "alt-t",
   "langInMainMenu": true,
   "sourceLang": "en",
   "targetLang": "fr",
   "useGoogleTranslate": true
  },
  "toc": {
   "base_numbering": 1,
   "colors": {
    "hover_highlight": "#DAA520",
    "running_highlight": "#FF0000",
    "selected_highlight": "#FFD700"
   },
   "moveMenuLeft": true,
   "nav_menu": {},
   "navigate_menu": true,
   "number_sections": true,
   "sideBar": true,
   "skip_h1_title": false,
   "threshold": 4,
   "title_cell": "Table of Contents",
   "title_sidebar": "Contents",
   "toc_cell": false,
   "toc_position": {
    "height": "calc(100% - 180px)",
    "left": "10px",
    "top": "150px",
    "width": "165px"
   },
   "toc_section_display": true,
   "toc_window_display": true
  }
 },
 "nbformat": 4,
 "nbformat_minor": 1
}
