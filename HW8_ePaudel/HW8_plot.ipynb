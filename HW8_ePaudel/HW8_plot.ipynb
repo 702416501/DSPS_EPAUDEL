{
  "nbformat": 4,
  "nbformat_minor": 0,
  "metadata": {
    "colab": {
      "name": "HW8_plot.ipynb",
      "provenance": []
    },
    "kernelspec": {
      "name": "python3",
      "display_name": "Python 3"
    }
  },
  "cells": [
    {
      "cell_type": "code",
      "metadata": {
        "id": "r00iFlDv9q9y",
        "colab_type": "code",
        "colab": {}
      },
      "source": [
        "#importing important libraries\n",
        "import numpy as np\n",
        "import pandas as pd\n",
        "import pylab as pl"
      ],
      "execution_count": 0,
      "outputs": []
    },
    {
      "cell_type": "code",
      "metadata": {
        "id": "v5V3A3pO993b",
        "colab_type": "code",
        "colab": {}
      },
      "source": [
        "#importing data as dataframe\n",
        "pldata = pd.read_csv(\"https://raw.githubusercontent.com/narayan-paudel/DSPS_EPAUDEL/master/HW8_ePaudel/Public_Library_Usage.csv\")"
      ],
      "execution_count": 0,
      "outputs": []
    },
    {
      "cell_type": "code",
      "metadata": {
        "id": "f3JXJ7Kf-RVu",
        "colab_type": "code",
        "colab": {
          "base_uri": "https://localhost:8080/",
          "height": 275
        },
        "outputId": "84352ec1-eaa1-4bac-b4f7-683db99c4e09"
      },
      "source": [
        "pldata.head()"
      ],
      "execution_count": 17,
      "outputs": [
        {
          "output_type": "execute_result",
          "data": {
            "text/html": [
              "<div>\n",
              "<style scoped>\n",
              "    .dataframe tbody tr th:only-of-type {\n",
              "        vertical-align: middle;\n",
              "    }\n",
              "\n",
              "    .dataframe tbody tr th {\n",
              "        vertical-align: top;\n",
              "    }\n",
              "\n",
              "    .dataframe thead th {\n",
              "        text-align: right;\n",
              "    }\n",
              "</style>\n",
              "<table border=\"1\" class=\"dataframe\">\n",
              "  <thead>\n",
              "    <tr style=\"text-align: right;\">\n",
              "      <th></th>\n",
              "      <th>Fiscal Year</th>\n",
              "      <th>Library</th>\n",
              "      <th>Total Visits</th>\n",
              "      <th>Registered Borrowers</th>\n",
              "      <th>Adult Circulation</th>\n",
              "      <th>Juvenile Circulation</th>\n",
              "      <th>Young Adult Circulation</th>\n",
              "      <th>Miscellaneous Circulation</th>\n",
              "      <th>Physical Circulation</th>\n",
              "      <th>OverDrive (eBook) Circulation</th>\n",
              "      <th>Flipster (eMagazine) Circulation</th>\n",
              "      <th>Total Circulation (Physical &amp; Electronic)</th>\n",
              "      <th>Computer Usage</th>\n",
              "      <th>WiFi Users</th>\n",
              "    </tr>\n",
              "  </thead>\n",
              "  <tbody>\n",
              "    <tr>\n",
              "      <th>0</th>\n",
              "      <td>2013</td>\n",
              "      <td>APPOQUIN</td>\n",
              "      <td>110810.0</td>\n",
              "      <td>15548.0</td>\n",
              "      <td>99056.0</td>\n",
              "      <td>78771.0</td>\n",
              "      <td>6651.0</td>\n",
              "      <td>1849.0</td>\n",
              "      <td>186327.0</td>\n",
              "      <td>6003.0</td>\n",
              "      <td>NaN</td>\n",
              "      <td>192330.0</td>\n",
              "      <td>15867.0</td>\n",
              "      <td>1387.0</td>\n",
              "    </tr>\n",
              "    <tr>\n",
              "      <th>1</th>\n",
              "      <td>2013</td>\n",
              "      <td>BEAR</td>\n",
              "      <td>178045.0</td>\n",
              "      <td>49513.0</td>\n",
              "      <td>144189.0</td>\n",
              "      <td>111832.0</td>\n",
              "      <td>8034.0</td>\n",
              "      <td>1849.0</td>\n",
              "      <td>265904.0</td>\n",
              "      <td>5985.0</td>\n",
              "      <td>NaN</td>\n",
              "      <td>271889.0</td>\n",
              "      <td>22709.0</td>\n",
              "      <td>4263.0</td>\n",
              "    </tr>\n",
              "    <tr>\n",
              "      <th>2</th>\n",
              "      <td>2013</td>\n",
              "      <td>BRANDYWINE</td>\n",
              "      <td>298102.0</td>\n",
              "      <td>38460.0</td>\n",
              "      <td>497343.0</td>\n",
              "      <td>309875.0</td>\n",
              "      <td>24127.0</td>\n",
              "      <td>7946.0</td>\n",
              "      <td>839291.0</td>\n",
              "      <td>20134.0</td>\n",
              "      <td>NaN</td>\n",
              "      <td>859425.0</td>\n",
              "      <td>38268.0</td>\n",
              "      <td>5341.0</td>\n",
              "    </tr>\n",
              "    <tr>\n",
              "      <th>3</th>\n",
              "      <td>2013</td>\n",
              "      <td>BRIDGEVILL</td>\n",
              "      <td>49614.0</td>\n",
              "      <td>4434.0</td>\n",
              "      <td>40239.0</td>\n",
              "      <td>19825.0</td>\n",
              "      <td>3770.0</td>\n",
              "      <td>417.0</td>\n",
              "      <td>64251.0</td>\n",
              "      <td>1415.0</td>\n",
              "      <td>NaN</td>\n",
              "      <td>65666.0</td>\n",
              "      <td>8924.0</td>\n",
              "      <td>811.0</td>\n",
              "    </tr>\n",
              "    <tr>\n",
              "      <th>4</th>\n",
              "      <td>2013</td>\n",
              "      <td>CLAYMONT</td>\n",
              "      <td>92274.0</td>\n",
              "      <td>7276.0</td>\n",
              "      <td>67511.0</td>\n",
              "      <td>25785.0</td>\n",
              "      <td>2972.0</td>\n",
              "      <td>939.0</td>\n",
              "      <td>97207.0</td>\n",
              "      <td>1359.0</td>\n",
              "      <td>NaN</td>\n",
              "      <td>98566.0</td>\n",
              "      <td>13411.0</td>\n",
              "      <td>753.0</td>\n",
              "    </tr>\n",
              "  </tbody>\n",
              "</table>\n",
              "</div>"
            ],
            "text/plain": [
              "   Fiscal Year     Library  ...  Computer Usage  WiFi Users\n",
              "0         2013    APPOQUIN  ...         15867.0      1387.0\n",
              "1         2013        BEAR  ...         22709.0      4263.0\n",
              "2         2013  BRANDYWINE  ...         38268.0      5341.0\n",
              "3         2013  BRIDGEVILL  ...          8924.0       811.0\n",
              "4         2013    CLAYMONT  ...         13411.0       753.0\n",
              "\n",
              "[5 rows x 14 columns]"
            ]
          },
          "metadata": {
            "tags": []
          },
          "execution_count": 17
        }
      ]
    },
    {
      "cell_type": "code",
      "metadata": {
        "id": "eXrxgJXdIc2b",
        "colab_type": "code",
        "colab": {
          "base_uri": "https://localhost:8080/",
          "height": 136
        },
        "outputId": "7591eeae-0f03-48b6-b6a2-19b6bd56a87f"
      },
      "source": [
        "pldata.columns"
      ],
      "execution_count": 19,
      "outputs": [
        {
          "output_type": "execute_result",
          "data": {
            "text/plain": [
              "Index(['Fiscal Year', 'Library', 'Total Visits', 'Registered Borrowers',\n",
              "       'Adult Circulation', 'Juvenile Circulation', 'Young Adult Circulation',\n",
              "       'Miscellaneous Circulation', 'Physical Circulation',\n",
              "       'OverDrive (eBook) Circulation', 'Flipster (eMagazine) Circulation',\n",
              "       'Total Circulation (Physical & Electronic)', 'Computer Usage',\n",
              "       'WiFi Users'],\n",
              "      dtype='object')"
            ]
          },
          "metadata": {
            "tags": []
          },
          "execution_count": 19
        }
      ]
    },
    {
      "cell_type": "code",
      "metadata": {
        "id": "UcxSf59sREPf",
        "colab_type": "code",
        "colab": {}
      },
      "source": [
        "#dataframe for newark and wilmington library\n",
        "pldata_nw = pldata[pldata[\"Library\"] == \"NEWARK\"]\n",
        "pldata_wm = pldata[pldata[\"Library\"] == \"WILMINGTON\"]"
      ],
      "execution_count": 0,
      "outputs": []
    },
    {
      "cell_type": "code",
      "metadata": {
        "id": "AxQUGfmf-TGm",
        "colab_type": "code",
        "colab": {}
      },
      "source": [
        "pldata_nw = pldata_nw[[\"Fiscal Year\",\"Total Circulation (Physical & Electronic)\"]]\n",
        "pldata_wm = pldata_wm[[\"Fiscal Year\",\"Total Circulation (Physical & Electronic)\"]]"
      ],
      "execution_count": 0,
      "outputs": []
    },
    {
      "cell_type": "code",
      "metadata": {
        "id": "HHyBz7VYI2wN",
        "colab_type": "code",
        "colab": {}
      },
      "source": [
        "pldata_nw.rename(columns={\"Total Circulation (Physical & Electronic)\":\"Total Circulation\"},inplace=True);\n",
        "pldata_wm.rename(columns={\"Total Circulation (Physical & Electronic)\":\"Total Circulation\"},inplace=True);"
      ],
      "execution_count": 0,
      "outputs": []
    },
    {
      "cell_type": "code",
      "metadata": {
        "id": "GhjCznjAOXBC",
        "colab_type": "code",
        "colab": {
          "base_uri": "https://localhost:8080/",
          "height": 204
        },
        "outputId": "16713c10-24ab-47ee-c29d-18ce8614cdf4"
      },
      "source": [
        "pldata_nw.head()"
      ],
      "execution_count": 42,
      "outputs": [
        {
          "output_type": "execute_result",
          "data": {
            "text/html": [
              "<div>\n",
              "<style scoped>\n",
              "    .dataframe tbody tr th:only-of-type {\n",
              "        vertical-align: middle;\n",
              "    }\n",
              "\n",
              "    .dataframe tbody tr th {\n",
              "        vertical-align: top;\n",
              "    }\n",
              "\n",
              "    .dataframe thead th {\n",
              "        text-align: right;\n",
              "    }\n",
              "</style>\n",
              "<table border=\"1\" class=\"dataframe\">\n",
              "  <thead>\n",
              "    <tr style=\"text-align: right;\">\n",
              "      <th></th>\n",
              "      <th>Fiscal Year</th>\n",
              "      <th>Total Circulation</th>\n",
              "    </tr>\n",
              "  </thead>\n",
              "  <tbody>\n",
              "    <tr>\n",
              "      <th>28</th>\n",
              "      <td>2013</td>\n",
              "      <td>835624.0</td>\n",
              "    </tr>\n",
              "    <tr>\n",
              "      <th>66</th>\n",
              "      <td>2014</td>\n",
              "      <td>679089.0</td>\n",
              "    </tr>\n",
              "    <tr>\n",
              "      <th>104</th>\n",
              "      <td>2015</td>\n",
              "      <td>673884.0</td>\n",
              "    </tr>\n",
              "    <tr>\n",
              "      <th>142</th>\n",
              "      <td>2016</td>\n",
              "      <td>634711.0</td>\n",
              "    </tr>\n",
              "    <tr>\n",
              "      <th>168</th>\n",
              "      <td>2017</td>\n",
              "      <td>586310.0</td>\n",
              "    </tr>\n",
              "  </tbody>\n",
              "</table>\n",
              "</div>"
            ],
            "text/plain": [
              "     Fiscal Year  Total Circulation\n",
              "28          2013           835624.0\n",
              "66          2014           679089.0\n",
              "104         2015           673884.0\n",
              "142         2016           634711.0\n",
              "168         2017           586310.0"
            ]
          },
          "metadata": {
            "tags": []
          },
          "execution_count": 42
        }
      ]
    },
    {
      "cell_type": "code",
      "metadata": {
        "id": "2vSCt8hBTyVg",
        "colab_type": "code",
        "colab": {
          "base_uri": "https://localhost:8080/",
          "height": 204
        },
        "outputId": "950da1cc-8505-4f71-f2f7-6d8e3ae9a167"
      },
      "source": [
        "pldata_wm.head()"
      ],
      "execution_count": 43,
      "outputs": [
        {
          "output_type": "execute_result",
          "data": {
            "text/html": [
              "<div>\n",
              "<style scoped>\n",
              "    .dataframe tbody tr th:only-of-type {\n",
              "        vertical-align: middle;\n",
              "    }\n",
              "\n",
              "    .dataframe tbody tr th {\n",
              "        vertical-align: top;\n",
              "    }\n",
              "\n",
              "    .dataframe thead th {\n",
              "        text-align: right;\n",
              "    }\n",
              "</style>\n",
              "<table border=\"1\" class=\"dataframe\">\n",
              "  <thead>\n",
              "    <tr style=\"text-align: right;\">\n",
              "      <th></th>\n",
              "      <th>Fiscal Year</th>\n",
              "      <th>Total Circulation</th>\n",
              "    </tr>\n",
              "  </thead>\n",
              "  <tbody>\n",
              "    <tr>\n",
              "      <th>36</th>\n",
              "      <td>2013</td>\n",
              "      <td>97008.0</td>\n",
              "    </tr>\n",
              "    <tr>\n",
              "      <th>74</th>\n",
              "      <td>2014</td>\n",
              "      <td>95028.0</td>\n",
              "    </tr>\n",
              "    <tr>\n",
              "      <th>112</th>\n",
              "      <td>2015</td>\n",
              "      <td>130686.0</td>\n",
              "    </tr>\n",
              "    <tr>\n",
              "      <th>131</th>\n",
              "      <td>2016</td>\n",
              "      <td>133671.0</td>\n",
              "    </tr>\n",
              "    <tr>\n",
              "      <th>171</th>\n",
              "      <td>2017</td>\n",
              "      <td>132656.0</td>\n",
              "    </tr>\n",
              "  </tbody>\n",
              "</table>\n",
              "</div>"
            ],
            "text/plain": [
              "     Fiscal Year  Total Circulation\n",
              "36          2013            97008.0\n",
              "74          2014            95028.0\n",
              "112         2015           130686.0\n",
              "131         2016           133671.0\n",
              "171         2017           132656.0"
            ]
          },
          "metadata": {
            "tags": []
          },
          "execution_count": 43
        }
      ]
    },
    {
      "cell_type": "code",
      "metadata": {
        "id": "vN6Js8dRPBBC",
        "colab_type": "code",
        "colab": {
          "base_uri": "https://localhost:8080/",
          "height": 624
        },
        "outputId": "b6596135-971a-4c6d-e885-3e89afc0fdcf"
      },
      "source": [
        "#making scatter plot\n",
        "ax = pl.figure(figsize=(10,10)).add_subplot(111)\n",
        "pl.rcParams['font.size']=20\n",
        "pl.plot(pldata_nw[\"Fiscal Year\"], pldata_nw[\"Total Circulation\"], 'o', color='DarkGreen', label='Newark Library ', \n",
        "        lw = 2, ms=10)\n",
        "pl.plot(pldata_wm[\"Fiscal Year\"], pldata_wm[\"Total Circulation\"], '>', color='DarkBlue', label='Wilmington Library ', \n",
        "        lw = 2, ms=10)\n",
        "legend = pl.legend(loc='upper right', shadow=False)\n",
        "\n",
        "pl.xlabel(\"year\")\n",
        "pl.ylabel(\"Total circulation\")\n",
        "pl.savefig(\"lib_circ.jpg\", dpi=300)"
      ],
      "execution_count": 50,
      "outputs": [
        {
          "output_type": "display_data",
          "data": {
            "image/png": "[encoded data removed]",
            "text/plain": [
              "<Figure size 720x720 with 1 Axes>"
            ]
          },
          "metadata": {
            "tags": []
          }
        }
      ]
    },
    {
      "cell_type": "markdown",
      "metadata": {
        "id": "nYQHlTh-VQeA",
        "colab_type": "text"
      },
      "source": [
        "###Figure 1: Plot of total circulation of items in libraries of Newark and Wilmington. Circulation in Newark is very high in comparision to Wilmington but shows decreasing trend. Circulation in Wilmington increases upto 2015 and then remains constant."
      ]
    }
  ]
}